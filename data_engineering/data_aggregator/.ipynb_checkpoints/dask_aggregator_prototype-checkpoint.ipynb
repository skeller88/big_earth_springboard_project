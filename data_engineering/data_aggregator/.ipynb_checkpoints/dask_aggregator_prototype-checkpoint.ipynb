{
 "cells": [
  {
   "cell_type": "code",
   "execution_count": 24,
   "metadata": {},
   "outputs": [],
   "source": [
    "import time\n",
    "import dask\n",
    "import dask.array as da\n",
    "import dask.bag as db\n",
    "import dask.dataframe as dd\n",
    "\n",
    "import pandas as pd\n",
    "from PIL import Image\n",
    "import numpy as np"
   ]
  },
  {
   "cell_type": "code",
   "execution_count": 14,
   "metadata": {},
   "outputs": [],
   "source": [
    "root = '/home/jovyan/work'\n",
    "\n",
    "metadata = dd.read_csv(root + '/data/metadata.csv').compute()\n",
    "dataset_size = len(metadata)\n",
    "sample_size = 20000\n",
    "frac = sample_size / dataset_size\n",
    "sample = metadata.sample(frac=frac, random_state=0)\n",
    "print(len(sample))"
   ]
  },
  {
   "cell_type": "code",
   "execution_count": 34,
   "metadata": {},
   "outputs": [],
   "source": [
    "import os\n",
    "\n",
    "npy_files_path = f\"{root}/data/big_earth/npy_files\"\n",
    "os.mkdir(npy_files_path)"
   ]
  },
  {
   "cell_type": "code",
   "execution_count": 35,
   "metadata": {},
   "outputs": [],
   "source": [
    "def image_files_to_npy_file(image_prefix):\n",
    "    bands = [np.asarray(\n",
    "    Image.open(f\"{root}/data/big_earth/BigEarthNet-v1.0/{image_prefix}/{image_prefix}_B{band}.tif\"),\n",
    "    dtype=np.uint16) for band in [\"02\", \"03\", \"04\"]]\n",
    "    \n",
    "    stacked_arr = np.stack(bands, axis=-1)\n",
    "    np.save(f\"{npy_files_path}/{image_prefix}\", stacked_arr)"
   ]
  },
  {
   "cell_type": "code",
   "execution_count": 36,
   "metadata": {},
   "outputs": [
    {
     "name": "stdout",
     "output_type": "stream",
     "text": [
      "134.17633366584778\n"
     ]
    }
   ],
   "source": [
    "start = time.time()\n",
    "db.from_sequence(sample.iloc[:5000]['image_prefix'].values).map(image_files_to_npy_file).compute()\n",
    "print(time.time() - start)"
   ]
  },
  {
   "cell_type": "code",
   "execution_count": 71,
   "metadata": {},
   "outputs": [],
   "source": [
    "import random\n",
    "import time\n",
    "\n",
    "import numpy as np\n",
    "from tensorflow.keras.utils import Sequence\n",
    "\n",
    "\n",
    "class AugmentedImageSequence(Sequence):\n",
    "    def __init__(self, x: np.array, y: np.array, batch_size, augmentations):\n",
    "        self.x = x\n",
    "        self.y = y\n",
    "        self.base_index = [idx for idx in range(len(x))]\n",
    "        self.batch_size = batch_size\n",
    "        self.augmentations = augmentations\n",
    "\n",
    "    def __len__(self):\n",
    "        return int(np.ceil(len(self.x) / self.batch_size))\n",
    "\n",
    "    def __getitem__(self, batch_num):\n",
    "        if batch_num == 0:\n",
    "            print('getting batch_num', batch_num)\n",
    "            start = time.time()\n",
    "\n",
    "        batch_x = self.x[batch_num * self.batch_size:(batch_num + 1) * self.batch_size]\n",
    "\n",
    "        if self.y is not None:\n",
    "            batch_y = self.y[batch_num * self.batch_size:(batch_num + 1) * self.batch_size]\n",
    "\n",
    "        start = time.time()\n",
    "        images = self.batch_loader(batch_x)\n",
    "\n",
    "        # training\n",
    "        if self.y is not None:\n",
    "            batch_x = np.stack([self.augmentations(image=x)[\"image\"] for x in images], axis=0)\n",
    "\n",
    "            if batch_num == 0:\n",
    "                print('fetched batch_num', batch_num, 'in', time.time() - start, 'seconds')\n",
    "\n",
    "            return batch_x, batch_y\n",
    "        # test (inference only)\n",
    "        else:\n",
    "            return np.array(images)\n",
    "\n",
    "    def batch_loader(self, image_paths) -> np.array:\n",
    "        raise NotImplementedError()\n",
    "\n",
    "    def on_epoch_end(self):\n",
    "        shuffled_index = self.base_index.copy()\n",
    "        random.shuffle(shuffled_index)\n",
    "        self.x = self.x[shuffled_index]\n",
    "\n",
    "        if self.y is not None:\n",
    "            self.y = self.y[shuffled_index]\n",
    "\n",
    "class AugmentedImageSequenceFromNpy(AugmentedImageSequence):\n",
    "    def __init__(self, x: np.array, y: np.array, batch_size, augmentations):\n",
    "        super().__init__(x=x, y=y, batch_size=batch_size, augmentations=augmentations)\n",
    "\n",
    "    def batch_loader(self, image_paths) -> np.array:\n",
    "        return np.array([np.load(image_path) for image_path in image_paths])"
   ]
  },
  {
   "cell_type": "code",
   "execution_count": 39,
   "metadata": {},
   "outputs": [],
   "source": [
    "from albumentations import (\n",
    "    Compose, Flip, VerticalFlip, Resize, Rotate, ToFloat\n",
    ")\n",
    "import time\n",
    "\n",
    "AUGMENTATIONS_TRAIN = Compose([\n",
    "    Flip(p=0.5),\n",
    "    Rotate(limit=(0, 360), p=0.5)\n",
    "])\n",
    "\n",
    "AUGMENTATIONS_TEST = Compose([])"
   ]
  },
  {
   "cell_type": "code",
   "execution_count": 56,
   "metadata": {},
   "outputs": [],
   "source": [
    "xtrain = npy_files_path + \"/\" + sample.iloc[:5000]['image_prefix'] + \".npy\"\n",
    "ytrain = np.array([np.random.randn(1, 44) for _ in range(len(xtrain))])"
   ]
  },
  {
   "cell_type": "code",
   "execution_count": 75,
   "metadata": {},
   "outputs": [
    {
     "name": "stdout",
     "output_type": "stream",
     "text": [
      "getting batch_num 0\n",
      "fetched batch_num 0 in 0.5602941513061523 seconds\n",
      "23.606159448623657\n"
     ]
    }
   ],
   "source": [
    "batch_size = 128\n",
    "a = AugmentedImageSequenceFromNpy(x=xtrain, y=ytrain, batch_size=batch_size,\n",
    "                                  augmentations=AUGMENTATIONS_TRAIN)\n",
    "\n",
    "def benchmark(sequence):\n",
    "    start = time.time()\n",
    "    for x, y in sequence:\n",
    "#     for batch in len(sequence):\n",
    "        time.sleep(0.01)\n",
    "    print(\"finished epoch in\", time.time() - start, \"seconds\")\n",
    "        \n",
    "# for x, y in a:\n",
    "#     print(x.shape, y.shape)\n",
    "\n",
    "# a.on_epoch_end()\n",
    "\n",
    "benchmark(a)"
   ]
  }
 ],
 "metadata": {
  "kernelspec": {
   "display_name": "Python 3",
   "language": "python",
   "name": "python3"
  },
  "language_info": {
   "codemirror_mode": {
    "name": "ipython",
    "version": 3
   },
   "file_extension": ".py",
   "mimetype": "text/x-python",
   "name": "python",
   "nbconvert_exporter": "python",
   "pygments_lexer": "ipython3",
   "version": "3.7.3"
  }
 },
 "nbformat": 4,
 "nbformat_minor": 2
}

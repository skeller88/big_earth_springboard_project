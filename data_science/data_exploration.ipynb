{
 "cells": [
  {
   "cell_type": "code",
   "execution_count": 4,
   "metadata": {
    "scrolled": true
   },
   "outputs": [
    {
     "name": "stdout",
     "output_type": "stream",
     "text": [
      "Requirement already satisfied: seaborn in /app/env/lib/python3.6/site-packages (0.10.0)\n",
      "Requirement already satisfied: scipy>=1.0.1 in /app/env/lib/python3.6/site-packages (from seaborn) (1.4.1)\n",
      "Requirement already satisfied: numpy>=1.13.3 in /app/env/lib/python3.6/site-packages (from seaborn) (1.18.1)\n",
      "Requirement already satisfied: matplotlib>=2.1.2 in /app/env/lib/python3.6/site-packages (from seaborn) (3.1.3)\n",
      "Requirement already satisfied: pandas>=0.22.0 in /app/env/lib/python3.6/site-packages (from seaborn) (1.0.0)\n",
      "Requirement already satisfied: cycler>=0.10 in /app/env/lib/python3.6/site-packages (from matplotlib>=2.1.2->seaborn) (0.10.0)\n",
      "Requirement already satisfied: kiwisolver>=1.0.1 in /app/env/lib/python3.6/site-packages (from matplotlib>=2.1.2->seaborn) (1.1.0)\n",
      "Requirement already satisfied: python-dateutil>=2.1 in /app/env/lib/python3.6/site-packages (from matplotlib>=2.1.2->seaborn) (2.8.1)\n",
      "Requirement already satisfied: pyparsing!=2.0.4,!=2.1.2,!=2.1.6,>=2.0.1 in /app/env/lib/python3.6/site-packages (from matplotlib>=2.1.2->seaborn) (2.4.6)\n",
      "Requirement already satisfied: pytz>=2017.2 in /app/env/lib/python3.6/site-packages (from pandas>=0.22.0->seaborn) (2019.3)\n",
      "Requirement already satisfied: six in /app/env/lib/python3.6/site-packages (from cycler>=0.10->matplotlib>=2.1.2->seaborn) (1.14.0)\n",
      "Requirement already satisfied: setuptools in /app/env/lib/python3.6/site-packages (from kiwisolver>=1.0.1->matplotlib>=2.1.2->seaborn) (45.1.0.post20200119)\n"
     ]
    }
   ],
   "source": [
    "!pip install seaborn"
   ]
  },
  {
   "cell_type": "code",
   "execution_count": 5,
   "metadata": {},
   "outputs": [],
   "source": [
    "import datetime\n",
    "import os\n",
    "from collections import defaultdict\n",
    "import gc\n",
    "from joblib import dump, load\n",
    "import random\n",
    "import time\n",
    "from typing import List, Tuple\n",
    "\n",
    "from albumentations import (\n",
    "    Compose, Flip, Rotate\n",
    ")\n",
    "\n",
    "import dask\n",
    "import dask.array as da\n",
    "from google.cloud import storage\n",
    "import matplotlib.pyplot as plt\n",
    "import numpy as np\n",
    "import pandas as pd\n",
    "\n",
    "import seaborn as sns\n",
    "import sklearn\n",
    "from sklearn.model_selection import train_test_split\n",
    "from sklearn.linear_model import SGDClassifier\n",
    "from sklearn.metrics import accuracy_score, confusion_matrix, precision_recall_fscore_support, precision_score, precision_recall_curve\n",
    "\n",
    "import tensorflow as tf\n",
    "from tensorflow.keras.optimizers import Adam\n",
    "from tensorflow.keras.callbacks import ModelCheckpoint, EarlyStopping, ReduceLROnPlateau, TensorBoard\n",
    "from tensorflow.keras.models import Model, load_model\n",
    "from tensorflow.keras.metrics import Accuracy\n",
    "\n",
    "from data_engineering.dask_image_stats_collector import stats_for_numpy_images "
   ]
  },
  {
   "cell_type": "code",
   "execution_count": 6,
   "metadata": {},
   "outputs": [],
   "source": [
    "root = '/home/jovyan/work/data/big_earth'\n",
    "random_seed = 0\n",
    "random.seed(random_seed)\n",
    "np.random.seed(random_seed)\n",
    "tf.random.set_seed(random_seed)\n",
    "\n",
    "project_name = \"cloud_and_shadow\""
   ]
  },
  {
   "cell_type": "code",
   "execution_count": 7,
   "metadata": {},
   "outputs": [
    {
     "name": "stdout",
     "output_type": "stream",
     "text": [
      "(1, 44)\n",
      "(1,)\n"
     ]
    }
   ],
   "source": [
    "import json\n",
    "# np.array(json.loads(df['binarized_labels'].iloc[0])).shape\n",
    "\n",
    "def prepare_data(df):\n",
    "    df['has_cloud_and_shadow_target'] = df['has_cloud_and_shadow_target'].apply(lambda x: np.array(json.loads(x)))\n",
    "    df['binarized_labels'] = df['binarized_labels'].apply(lambda x: np.array(json.loads(x)))    \n",
    "    df['image_path'] = root + \"/npy_image_files/\" + df['image_prefix'] + \".npy\"\n",
    "    return df\n",
    "\n",
    "df = pd.read_csv(root + \"/metadata/metadata.csv\")\n",
    "df = prepare_data(df)\n",
    "print(df['binarized_labels'].iloc[0].shape)\n",
    "print(df['has_cloud_and_shadow_target'].iloc[0].shape)\n",
    "df = df.set_index('image_prefix', drop=False)"
   ]
  },
  {
   "cell_type": "code",
   "execution_count": 8,
   "metadata": {},
   "outputs": [
    {
     "name": "stdout",
     "output_type": "stream",
     "text": [
      "1907 253 240\n",
      "True\n"
     ]
    }
   ],
   "source": [
    "# len(pd.read_csv(root + '/google_automl_cloud_and_shadow_dataset.csv'))\n",
    "\n",
    "google_automl_dataset = pd.read_csv( '/app/data_science/google_automl_cloud_and_shadow_dataset_small.csv')\n",
    "google_automl_dataset['image_prefix'] = google_automl_dataset['gcs_uri'].str.split('/').apply(lambda x: x[-1].replace(\".png\", \"\"))\n",
    "google_automl_dataset = google_automl_dataset.set_index('image_prefix', drop=False)\n",
    "\n",
    "train = df.loc[google_automl_dataset[google_automl_dataset['set'] == 'TRAIN'].index]\n",
    "valid = df.loc[google_automl_dataset[google_automl_dataset['set'] == 'VALIDATION'].index]\n",
    "test = df.loc[google_automl_dataset[google_automl_dataset['set'] == 'TEST'].index]\n",
    "\n",
    "print(len(train), len(valid), len(test))\n",
    "print(len(train) + len(valid) + len(test) == len(google_automl_dataset))"
   ]
  },
  {
   "cell_type": "code",
   "execution_count": 9,
   "metadata": {},
   "outputs": [],
   "source": [
    "if os.path.exists(root + '/cloud_and_shadow_stats.csv'):\n",
    "    all_stats = pd.read_csv(root + '/cloud_and_shadow_stats.csv')\n",
    "else:\n",
    "    stat_list = []\n",
    "    npy_image_dir = root + \"/npy_image_files\"\n",
    "    npy_files = [npy_image_dir + \"/\" + file + \".npy\" for file in train['image_prefix'].values]\n",
    "    start = time.time()\n",
    "    stats = stats_for_numpy_images(npy_files,  use_test_data=False)\n",
    "    stats['data'] = 'all'\n",
    "    stat_list.append(stats)\n",
    "    \n",
    "    # get stats per class\n",
    "    no_cloud = train[train['has_cloud_and_shadow'] == 0]\n",
    "    cloud = train[train['has_cloud_and_shadow'] == 1]\n",
    "    print(len(no_cloud), len(cloud))\n",
    "\n",
    "    for name, data in [('no_cloud', no_cloud), ('cloud', cloud)]:\n",
    "        npy_files = [npy_image_dir + \"/\" + file + \".npy\" for file in data['image_prefix'].values]\n",
    "        stats = stats_for_numpy_images(npy_files,  use_test_data=False)\n",
    "        stats['data'] = name\n",
    "        stat_list.append(stats)    \n",
    "    \n",
    "    all_stats = pd.concat(stat_list)\n",
    "    all_stats['band'] = all_stats.index\n",
    "    all_stats = all_stats.reset_index()  \n",
    "    all_stats = all_stats.drop('index', axis=1)    \n",
    "    all_stats.to_csv(root + '/cloud_and_shadow_stats.csv', index=False)\n",
    "        \n",
    "    print(f'stats computed in {time.time() - start}')"
   ]
  },
  {
   "cell_type": "code",
   "execution_count": 10,
   "metadata": {},
   "outputs": [],
   "source": [
    "# no_cloud_npy_files = [npy_image_dir + \"/\" + file + \".npy\" for file in no_cloud['image_prefix'].values]\n",
    "# no_cloud_pixels = np.concatenate([np.load(file).reshape(120 * 120, 3) for file in no_cloud_npy_files])\n",
    "# assert no_cloud_pixels.shape == (len(no_cloud_npy_files) * 120 * 120, 3)"
   ]
  },
  {
   "cell_type": "code",
   "execution_count": 11,
   "metadata": {},
   "outputs": [],
   "source": [
    "# cloud_npy_files = [npy_image_dir + \"/\" + file + \".npy\" for file in cloud['image_prefix'].values]\n",
    "# cloud_pixels = np.concatenate([np.load(file).reshape(120 * 120, 3) for file in cloud_npy_files])"
   ]
  },
  {
   "cell_type": "code",
   "execution_count": 12,
   "metadata": {},
   "outputs": [],
   "source": [
    "# dfs = []\n",
    "# for pixels, dataset_name in [(cloud_pixels, 'has_cloud'), (no_cloud_pixels, 'no_cloud')]:\n",
    "#     for band_name, band_idx in [('red', 0),  ('blue', 1), ('green', 2)]:\n",
    "#         df = pd.DataFrame({'pixel': cloud_pixels[:, band_idx]})\n",
    "#         df['band'] = band_name\n",
    "#         df['dataset'] = dataset_name\n",
    "#         dfs.append(df)\n",
    "\n",
    "# pixel_df = pd.concat(dfs)"
   ]
  },
  {
   "cell_type": "code",
   "execution_count": 13,
   "metadata": {},
   "outputs": [],
   "source": [
    "# pixel_df"
   ]
  },
  {
   "cell_type": "code",
   "execution_count": 14,
   "metadata": {},
   "outputs": [],
   "source": [
    "# sns.catplot(x=\"dataset\", y=\"pixel\", hue=\"band\", kind=\"box\", data=pixel_df);"
   ]
  },
  {
   "cell_type": "code",
   "execution_count": 15,
   "metadata": {},
   "outputs": [
    {
     "data": {
      "text/html": [
       "<div>\n",
       "<style scoped>\n",
       "    .dataframe tbody tr th:only-of-type {\n",
       "        vertical-align: middle;\n",
       "    }\n",
       "\n",
       "    .dataframe tbody tr th {\n",
       "        vertical-align: top;\n",
       "    }\n",
       "\n",
       "    .dataframe thead th {\n",
       "        text-align: right;\n",
       "    }\n",
       "</style>\n",
       "<table border=\"1\" class=\"dataframe\">\n",
       "  <thead>\n",
       "    <tr style=\"text-align: right;\">\n",
       "      <th></th>\n",
       "      <th>mean</th>\n",
       "      <th>std</th>\n",
       "      <th>min</th>\n",
       "      <th>max</th>\n",
       "      <th>data</th>\n",
       "      <th>band</th>\n",
       "      <th>index</th>\n",
       "    </tr>\n",
       "  </thead>\n",
       "  <tbody>\n",
       "    <tr>\n",
       "      <th>0</th>\n",
       "      <td>1037.286040</td>\n",
       "      <td>1904.295943</td>\n",
       "      <td>0</td>\n",
       "      <td>18946</td>\n",
       "      <td>all</td>\n",
       "      <td>red</td>\n",
       "      <td>0</td>\n",
       "    </tr>\n",
       "    <tr>\n",
       "      <th>1</th>\n",
       "      <td>1151.790453</td>\n",
       "      <td>1750.604182</td>\n",
       "      <td>0</td>\n",
       "      <td>17921</td>\n",
       "      <td>all</td>\n",
       "      <td>blue</td>\n",
       "      <td>1</td>\n",
       "    </tr>\n",
       "    <tr>\n",
       "      <th>2</th>\n",
       "      <td>1104.914808</td>\n",
       "      <td>1826.425950</td>\n",
       "      <td>0</td>\n",
       "      <td>17064</td>\n",
       "      <td>all</td>\n",
       "      <td>green</td>\n",
       "      <td>2</td>\n",
       "    </tr>\n",
       "    <tr>\n",
       "      <th>3</th>\n",
       "      <td>826.883167</td>\n",
       "      <td>1639.539906</td>\n",
       "      <td>0</td>\n",
       "      <td>18946</td>\n",
       "      <td>no_cloud</td>\n",
       "      <td>red</td>\n",
       "      <td>3</td>\n",
       "    </tr>\n",
       "    <tr>\n",
       "      <th>4</th>\n",
       "      <td>963.876001</td>\n",
       "      <td>1506.040242</td>\n",
       "      <td>0</td>\n",
       "      <td>17921</td>\n",
       "      <td>no_cloud</td>\n",
       "      <td>blue</td>\n",
       "      <td>4</td>\n",
       "    </tr>\n",
       "    <tr>\n",
       "      <th>5</th>\n",
       "      <td>958.935820</td>\n",
       "      <td>1606.936217</td>\n",
       "      <td>0</td>\n",
       "      <td>17064</td>\n",
       "      <td>no_cloud</td>\n",
       "      <td>green</td>\n",
       "      <td>5</td>\n",
       "    </tr>\n",
       "    <tr>\n",
       "      <th>6</th>\n",
       "      <td>1242.674130</td>\n",
       "      <td>2111.121499</td>\n",
       "      <td>1</td>\n",
       "      <td>17586</td>\n",
       "      <td>cloud</td>\n",
       "      <td>red</td>\n",
       "      <td>6</td>\n",
       "    </tr>\n",
       "    <tr>\n",
       "      <th>7</th>\n",
       "      <td>1335.226115</td>\n",
       "      <td>1942.671101</td>\n",
       "      <td>1</td>\n",
       "      <td>16822</td>\n",
       "      <td>cloud</td>\n",
       "      <td>blue</td>\n",
       "      <td>7</td>\n",
       "    </tr>\n",
       "    <tr>\n",
       "      <th>8</th>\n",
       "      <td>1247.414504</td>\n",
       "      <td>2007.573214</td>\n",
       "      <td>1</td>\n",
       "      <td>16206</td>\n",
       "      <td>cloud</td>\n",
       "      <td>green</td>\n",
       "      <td>8</td>\n",
       "    </tr>\n",
       "  </tbody>\n",
       "</table>\n",
       "</div>"
      ],
      "text/plain": [
       "          mean          std  min    max      data   band  index\n",
       "0  1037.286040  1904.295943    0  18946       all    red      0\n",
       "1  1151.790453  1750.604182    0  17921       all   blue      1\n",
       "2  1104.914808  1826.425950    0  17064       all  green      2\n",
       "3   826.883167  1639.539906    0  18946  no_cloud    red      3\n",
       "4   963.876001  1506.040242    0  17921  no_cloud   blue      4\n",
       "5   958.935820  1606.936217    0  17064  no_cloud  green      5\n",
       "6  1242.674130  2111.121499    1  17586     cloud    red      6\n",
       "7  1335.226115  1942.671101    1  16822     cloud   blue      7\n",
       "8  1247.414504  2007.573214    1  16206     cloud  green      8"
      ]
     },
     "execution_count": 15,
     "metadata": {},
     "output_type": "execute_result"
    }
   ],
   "source": [
    "all_stats"
   ]
  },
  {
   "cell_type": "code",
   "execution_count": 17,
   "metadata": {},
   "outputs": [],
   "source": [
    "all_stats['index'] = all_stats.index\n",
    "melted = all_stats.drop(['max'], axis=1).melt(value_name='pixel', var_name='stat', id_vars=['index', 'band', 'data'])"
   ]
  },
  {
   "cell_type": "code",
   "execution_count": 18,
   "metadata": {},
   "outputs": [
    {
     "data": {
      "text/plain": [
       "<ErrorbarContainer object of 3 artists>"
      ]
     },
     "execution_count": 18,
     "metadata": {},
     "output_type": "execute_result"
    },
    {
     "data": {
      "image/png": "[encoded data removed]",
      "text/plain": [
       "<Figure size 360x360 with 1 Axes>"
      ]
     },
     "metadata": {
      "needs_background": "light"
     },
     "output_type": "display_data"
    }
   ],
   "source": [
    "d = pd.DataFrame({'std': [10, 10 , 10],  'mean': [300, 400, 500], \n",
    "                  'band': ['red',  'blue', 'green'], 'dataset': ['no_cloud', 'no_cloud', 'no_cloud']})\n",
    "d2 = pd.DataFrame({'std': [10, 10 , 10],  'mean': [320, 200, 300], \n",
    "                  'band': ['red',  'blue', 'green'], 'dataset': ['cloud', 'cloud', 'cloud']})\n",
    "# plt.scatter(d['band'], d['mean'])\n",
    "# plt.errorbar(d['band'],d['mean'],yerr=d['std'], linestyle=\"None\")\n",
    "# plt.show()\n",
    "\n",
    "fig, ax = plt.subplots(1, 1, figsize=(5, 5))\n",
    "ax.errorbar(d['band'], d['mean'], yerr=d['std'], fmt=\"-o\", mec='r', mfc='r', linestyle=\"None\", label='no cloud', \n",
    "            **dict(ecolor='r'))\n",
    "ax.errorbar(d2['band'], d2['mean'], yerr=d2['std'], fmt=\"-o\", mec='b', mfc='b', linestyle=\"None\", label='cloud', \n",
    "            **dict(ecolor='b'))\n"
   ]
  },
  {
   "cell_type": "code",
   "execution_count": 19,
   "metadata": {},
   "outputs": [
    {
     "data": {
      "text/plain": [
       "<ErrorbarContainer object of 3 artists>"
      ]
     },
     "execution_count": 19,
     "metadata": {},
     "output_type": "execute_result"
    },
    {
     "data": {
      "image/png": "[encoded data removed]",
      "text/plain": [
       "<Figure size 360x360 with 1 Axes>"
      ]
     },
     "metadata": {
      "needs_background": "light"
     },
     "output_type": "display_data"
    }
   ],
   "source": [
    "cloud_stats = all_stats[all_stats['data'] == 'cloud']\n",
    "no_cloud_stats = all_stats[all_stats['data'] == 'no_cloud']\n",
    "\n",
    "fig, ax = plt.subplots(1, 1, figsize=(5, 5))\n",
    "ax.errorbar(cloud_stats['band'], cloud_stats['mean'], yerr=cloud_stats['std'], fmt=\"-o\", mec='r', mfc='r', linestyle=\"None\", label='cloud', \n",
    "            **dict(ecolor='r'))\n",
    "ax.errorbar(no_cloud_stats['band'], no_cloud_stats['mean'], yerr=no_cloud_stats['std'], fmt=\"-o\", mec='b', mfc='b', linestyle=\"None\", label='no_cloud', \n",
    "            **dict(ecolor='b'))"
   ]
  },
  {
   "cell_type": "code",
   "execution_count": 20,
   "metadata": {
    "scrolled": false
   },
   "outputs": [
    {
     "data": {
      "text/plain": [
       "<matplotlib.legend.Legend at 0x7f1bc1d00c88>"
      ]
     },
     "execution_count": 20,
     "metadata": {},
     "output_type": "execute_result"
    },
    {
     "data": {
      "image/png": "[encoded data removed]",
      "text/plain": [
       "<Figure size 360x360 with 1 Axes>"
      ]
     },
     "metadata": {
      "needs_background": "light"
     },
     "output_type": "display_data"
    }
   ],
   "source": [
    "fig, ax = plt.subplots(1, 1, figsize=(5, 5))\n",
    "s = sns.scatterplot(x='band', y='pixel', hue='data', data=melted, style='stat', \n",
    "                markers={'mean': 'o', 'max': '^', 'min': 'v', 'std': 'X'}, \n",
    "                ax=ax)\n",
    "# plt.legend(loc='best')\n",
    "plt.legend(bbox_to_anchor=(1.05, 1), loc=2, borderaxespad=0.)"
   ]
  },
  {
   "cell_type": "code",
   "execution_count": 46,
   "metadata": {},
   "outputs": [
    {
     "data": {
      "text/plain": [
       "<seaborn.axisgrid.FacetGrid at 0x7f1bba9a93c8>"
      ]
     },
     "execution_count": 46,
     "metadata": {},
     "output_type": "execute_result"
    },
    {
     "data": {
      "image/png": "[encoded data removed]",
      "text/plain": [
       "<Figure size 425.125x360 with 1 Axes>"
      ]
     },
     "metadata": {
      "needs_background": "light"
     },
     "output_type": "display_data"
    }
   ],
   "source": [
    "red = sns.xkcd_rgb[\"pale red\"]\n",
    "blue = sns.xkcd_rgb[\"medium blue\"]\n",
    "green = sns.xkcd_rgb[\"green\"]\n",
    "\n",
    "sns.catplot(x=\"data\", y=\"std\", hue=\"band\", kind=\"bar\", data=all_stats, \n",
    "            palette={'red': red, 'blue': blue, 'green': green}).set_titles('std')"
   ]
  },
  {
   "cell_type": "code",
   "execution_count": 47,
   "metadata": {},
   "outputs": [
    {
     "data": {
      "text/plain": [
       "<seaborn.axisgrid.FacetGrid at 0x7f1bbabe22e8>"
      ]
     },
     "execution_count": 47,
     "metadata": {},
     "output_type": "execute_result"
    },
    {
     "data": {
      "image/png": "[encoded data removed]",
      "text/plain": [
       "<Figure size 425.125x360 with 1 Axes>"
      ]
     },
     "metadata": {
      "needs_background": "light"
     },
     "output_type": "display_data"
    }
   ],
   "source": [
    "red = sns.xkcd_rgb[\"pale red\"]\n",
    "blue = sns.xkcd_rgb[\"medium blue\"]\n",
    "green = sns.xkcd_rgb[\"green\"]\n",
    "\n",
    "sns.catplot(x=\"data\", y=\"mean\", hue=\"band\", kind=\"bar\", data=all_stats, \n",
    "            palette={'red': red, 'blue': blue, 'green': green}).set_titles('mean')"
   ]
  },
  {
   "cell_type": "code",
   "execution_count": null,
   "metadata": {},
   "outputs": [],
   "source": [
    "sns.catplot(x=\"data\", y=\"min\", hue=\"band\", kind=\"bar\", data=all_stats, \n",
    "            palette={'red': 'red', 'blue': 'blue', 'green': 'green'}).set_titles('min')"
   ]
  },
  {
   "cell_type": "code",
   "execution_count": null,
   "metadata": {},
   "outputs": [],
   "source": [
    "sns.catplot(x=\"data\", y=\"max\", hue=\"band\", kind=\"bar\", data=all_stats, \n",
    "            palette={'red': 'red', 'blue': 'blue', 'green': 'green'}).set_titles('max')"
   ]
  },
  {
   "cell_type": "code",
   "execution_count": null,
   "metadata": {},
   "outputs": [],
   "source": [
    "stats = all_stats[all_stats['data'] == 'all'].set_index('band')\n",
    "means = np.array(stats['mean'])\n",
    "stds = np.array(stats['std'])\n",
    "mins = np.array(stats['min'])\n",
    "maxs = np.array(stats['max'])"
   ]
  },
  {
   "cell_type": "code",
   "execution_count": null,
   "metadata": {},
   "outputs": [],
   "source": [
    "# https://stackoverflow.com/questions/14464449/using-numpy-to-efficiently-convert-16-bit-image-data-to-8-bit-for-display-with\n",
    "\n",
    "def display(image, display_min, display_max): # copied from Bi Rico\n",
    "    image = np.array(image, copy=True)\n",
    "    image.clip(display_min, display_max, out=image)\n",
    "    image -= display_min\n",
    "    np.floor_divide(image, (display_max - display_min + 1) / 256,\n",
    "                    out=image, casting='unsafe')\n",
    "    return image.astype(np.uint8)\n",
    "\n",
    "def lut_display(image, display_min, display_max) :\n",
    "    lut = np.arange(2**16, dtype='uint16')\n",
    "    lut = display(lut, display_min, display_max)\n",
    "    return np.take(lut, image)"
   ]
  },
  {
   "cell_type": "code",
   "execution_count": null,
   "metadata": {},
   "outputs": [],
   "source": [
    "def map_uint16_to_uint8(img, lower_bound=None, upper_bound=None):\n",
    "    '''\n",
    "    Map a 16-bit image trough a lookup table to convert it to 8-bit.\n",
    "\n",
    "    Parameters\n",
    "    ----------\n",
    "    img: numpy.ndarray[np.uint16]\n",
    "        image that should be mapped\n",
    "    lower_bound: int, optional\n",
    "        lower bound of the range that should be mapped to ``[0, 255]``,\n",
    "        value must be in the range ``[0, 65535]`` and smaller than `upper_bound`\n",
    "        (defaults to ``numpy.min(img)``)\n",
    "    upper_bound: int, optional\n",
    "       upper bound of the range that should be mapped to ``[0, 255]``,\n",
    "       value must be in the range ``[0, 65535]`` and larger than `lower_bound`\n",
    "       (defaults to ``numpy.max(img)``)\n",
    "\n",
    "    Returns\n",
    "    -------\n",
    "    numpy.ndarray[uint8]\n",
    "    '''\n",
    "    if not(0 <= lower_bound < 2**16) and lower_bound is not None:\n",
    "        raise ValueError(\n",
    "            '\"lower_bound\" must be in the range [0, 65535]')\n",
    "    if not(0 <= upper_bound < 2**16) and upper_bound is not None:\n",
    "        raise ValueError(\n",
    "            '\"upper_bound\" must be in the range [0, 65535]')\n",
    "    if lower_bound is None:\n",
    "        lower_bound = np.min(img)\n",
    "    if upper_bound is None:\n",
    "        upper_bound = np.max(img)\n",
    "    if lower_bound >= upper_bound:\n",
    "        raise ValueError(\n",
    "            '\"lower_bound\" must be smaller than \"upper_bound\"')\n",
    "    lut = np.concatenate([\n",
    "        np.zeros(lower_bound, dtype=np.uint16),\n",
    "        np.linspace(0, 255, upper_bound - lower_bound).astype(np.uint16),\n",
    "        np.ones(2**16 - upper_bound, dtype=np.uint16) * 255\n",
    "    ])\n",
    "    return lut[img].astype(np.uint8)"
   ]
  },
  {
   "cell_type": "code",
   "execution_count": null,
   "metadata": {},
   "outputs": [],
   "source": [
    "# map_uint16_to_uint8(arr, np.min(mins), np.max(maxs))"
   ]
  },
  {
   "cell_type": "code",
   "execution_count": null,
   "metadata": {},
   "outputs": [],
   "source": [
    "###### dim = 3\n",
    "fig, axs = plt.subplots(dim, dim, **{'figsize': (15,  15)})\n",
    "\n",
    "no_cloud_npy_files = [npy_image_dir + \"/\" + file + \".npy\" for file in no_cloud['image_prefix'].values]\n",
    "for row_num, row_axs in enumerate(axs):\n",
    "    for col_num, ax in enumerate(row_axs):\n",
    "        img_num = dim * row_num + col_num\n",
    "        arr = np.load(no_cloud_npy_files[img_num])\n",
    "        # normalizing gives a produces images that are too dark\n",
    "#         rgb_img = ((arr - means) / stds * 256.).astype(np.int8)\n",
    "        # scaling by 1 std away from the mean seems to do the best\n",
    "        rgb_img = (arr / (means + 2 * stds) * 256.).astype(np.int8)\n",
    "        # min max produces images that are all black\n",
    "#         rgb_img = ((arr - mins) / (maxs - mins) * 256.).astype(np.int8)        \n",
    "        # dividing by 256 produces images that are too white\n",
    "#         rgb_img = arr / 256\n",
    "\n",
    "        ax.imshow(rgb_img)\n",
    "        text = list(map(lambda x: x.strip(), no_cloud.iloc[img_num]['labels'].replace('\\'', '').replace('[', '').replace(']', '').split(',')))\n",
    "        print(row_num, col_num, text)"
   ]
  },
  {
   "cell_type": "code",
   "execution_count": null,
   "metadata": {},
   "outputs": [],
   "source": [
    "dim = 3\n",
    "fig, axs = plt.subplots(dim, dim, **{'figsize': (15,  15)})\n",
    "\n",
    "cloud_npy_files = [npy_image_dir + \"/\" + file + \".npy\" for file in cloud['image_prefix'].values]\n",
    "for row_num, row_axs in enumerate(axs):\n",
    "    for col_num, ax in enumerate(row_axs):\n",
    "        img_num = dim * row_num + col_num * 10 \n",
    "        arr = np.load(cloud_npy_files[img_num])\n",
    "        rgb_img = (arr / (means + .75*stds) * 256.).astype(np.int8)\n",
    "        ax.imshow(rgb_img)\n",
    "        text = list(map(lambda x: x.strip(), cloud.iloc[img_num]['labels'].replace('\\'', '').replace('[', '').replace(']', '').split(',')))\n",
    "        print(row_num, col_num, text)"
   ]
  },
  {
   "cell_type": "code",
   "execution_count": null,
   "metadata": {},
   "outputs": [],
   "source": [
    "dir(axs[0][0])"
   ]
  }
 ],
 "metadata": {
  "kernelspec": {
   "display_name": "Python 3",
   "language": "python",
   "name": "python3"
  },
  "language_info": {
   "codemirror_mode": {
    "name": "ipython",
    "version": 3
   },
   "file_extension": ".py",
   "mimetype": "text/x-python",
   "name": "python",
   "nbconvert_exporter": "python",
   "pygments_lexer": "ipython3",
   "version": "3.6.7"
  }
 },
 "nbformat": 4,
 "nbformat_minor": 4
}

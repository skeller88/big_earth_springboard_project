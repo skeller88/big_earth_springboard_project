{
 "cells": [
  {
   "cell_type": "code",
   "execution_count": 1,
   "metadata": {},
   "outputs": [
    {
     "name": "stdout",
     "output_type": "stream",
     "text": [
      "Requirement already satisfied: seaborn in /app/env/lib/python3.6/site-packages (0.10.0)\n",
      "Requirement already satisfied: pandas>=0.22.0 in /app/env/lib/python3.6/site-packages (from seaborn) (1.0.0)\n",
      "Requirement already satisfied: matplotlib>=2.1.2 in /app/env/lib/python3.6/site-packages (from seaborn) (3.1.3)\n",
      "Requirement already satisfied: scipy>=1.0.1 in /app/env/lib/python3.6/site-packages (from seaborn) (1.4.1)\n",
      "Requirement already satisfied: numpy>=1.13.3 in /app/env/lib/python3.6/site-packages (from seaborn) (1.18.1)\n",
      "Requirement already satisfied: python-dateutil>=2.6.1 in /app/env/lib/python3.6/site-packages (from pandas>=0.22.0->seaborn) (2.8.1)\n",
      "Requirement already satisfied: pytz>=2017.2 in /app/env/lib/python3.6/site-packages (from pandas>=0.22.0->seaborn) (2019.3)\n",
      "Requirement already satisfied: pyparsing!=2.0.4,!=2.1.2,!=2.1.6,>=2.0.1 in /app/env/lib/python3.6/site-packages (from matplotlib>=2.1.2->seaborn) (2.4.6)\n",
      "Requirement already satisfied: kiwisolver>=1.0.1 in /app/env/lib/python3.6/site-packages (from matplotlib>=2.1.2->seaborn) (1.1.0)\n",
      "Requirement already satisfied: cycler>=0.10 in /app/env/lib/python3.6/site-packages (from matplotlib>=2.1.2->seaborn) (0.10.0)\n",
      "Requirement already satisfied: six>=1.5 in /app/env/lib/python3.6/site-packages (from python-dateutil>=2.6.1->pandas>=0.22.0->seaborn) (1.14.0)\n",
      "Requirement already satisfied: setuptools in /app/env/lib/python3.6/site-packages (from kiwisolver>=1.0.1->matplotlib>=2.1.2->seaborn) (45.1.0.post20200119)\n"
     ]
    }
   ],
   "source": [
    "!pip install seaborn"
   ]
  },
  {
   "cell_type": "code",
   "execution_count": 72,
   "metadata": {},
   "outputs": [],
   "source": [
    "import datetime\n",
    "import os\n",
    "from collections import defaultdict\n",
    "import gc\n",
    "from joblib import dump, load\n",
    "import random\n",
    "import time\n",
    "from typing import List, Tuple\n",
    "\n",
    "from albumentations import (\n",
    "    Compose, Flip, Rotate\n",
    ")\n",
    "\n",
    "import dask\n",
    "import dask.array as da\n",
    "from google.cloud import storage\n",
    "import matplotlib.pyplot as plt\n",
    "import numpy as np\n",
    "import pandas as pd\n",
    "import seaborn as sns\n",
    "\n",
    "import sklearn\n",
    "from sklearn.model_selection import train_test_split\n",
    "from sklearn.linear_model import SGDClassifier, LogisticRegression\n",
    "from sklearn.metrics import accuracy_score, confusion_matrix, precision_recall_fscore_support, precision_score, precision_recall_curve\n",
    "\n",
    "import tensorflow as tf\n",
    "from tensorflow.keras.optimizers import Adam\n",
    "from tensorflow.keras.callbacks import ModelCheckpoint, EarlyStopping, ReduceLROnPlateau, TensorBoard\n",
    "from tensorflow.keras.models import Model, load_model\n",
    "from tensorflow.keras.metrics import Accuracy\n",
    "\n",
    "from data_engineering.dask_image_stats_collector import stats_for_numpy_images \n",
    "# from data_science.augmented_image_sequence_from_npy import AugmentedImageSequenceFromNpy\n",
    "from data_science.keras.model_checkpoint_gcs import ModelCheckpointGCS\n",
    "from data_science.keras.cnn_models import basic_cnn_model, basic_cnn_model_with_best_practices\n",
    "from data_science.serialization_utils import numpy_to_json, sklearn_precision_recall_curve_to_dict\n",
    "from data_science.sklearn_batch_generator import SklearnBatchGenerator\n",
    "from data_science.train import get_model_and_metadata_from_gcs"
   ]
  },
  {
   "cell_type": "code",
   "execution_count": 5,
   "metadata": {},
   "outputs": [
    {
     "name": "stdout",
     "output_type": "stream",
     "text": [
      "\n",
      "True\n",
      "True\n"
     ]
    }
   ],
   "source": [
    "print(tf.test.gpu_device_name())\n",
    "print(tf.test.is_built_with_gpu_support())\n",
    "print(tf.test.is_built_with_cuda())"
   ]
  },
  {
   "cell_type": "code",
   "execution_count": 17,
   "metadata": {},
   "outputs": [
    {
     "data": {
      "text/plain": [
       "['BigEarthNet-v1.0',\n",
       " '.DS_Store',\n",
       " 'google_automl_cloud_and_shadow_dataset_small.csv',\n",
       " 'cloud_and_shadow_stats.csv',\n",
       " 'npy_files',\n",
       " 'patches_with_cloud_and_shadow.csv',\n",
       " 'patches_with_seasonal_snow.csv',\n",
       " 'BigEarthNet-v1.0.tar.gz',\n",
       " 'model',\n",
       " 'google_automl_cloud_and_shadow_dataset.csv',\n",
       " 'metadata',\n",
       " 'png_image_files',\n",
       " 'npy_image_files']"
      ]
     },
     "execution_count": 17,
     "metadata": {},
     "output_type": "execute_result"
    }
   ],
   "source": [
    "root = '/home/jovyan/work/data/big_earth'\n",
    "os.listdir(root)"
   ]
  },
  {
   "cell_type": "code",
   "execution_count": 18,
   "metadata": {},
   "outputs": [],
   "source": [
    "random_seed = 0\n",
    "random.seed(random_seed)\n",
    "np.random.seed(random_seed)\n",
    "tf.random.set_seed(random_seed)\n",
    "\n",
    "n_classes = 1\n",
    "n_epochs = 100\n",
    "batch_size = 128\n",
    "\n",
    "os.environ['GOOGLE_APPLICATION_CREDENTIALS'] = '/app/.gcs/big-earth-252219-fb2e5c109f78.json'\n",
    "\n",
    "early_stopping_patience = 6\n",
    "use_small_dataset = False\n",
    "use_random_small_dataset = False\n",
    "\n",
    "project_name = \"cloud_and_shadow\"\n",
    "model_dir = os.path.join(root, \"model/models\")\n",
    "log_dir = os.path.join(root, \"model/logs\")\n",
    "# blob prefix\n",
    "gcs_model_dir = \"model/models\"\n",
    "# tensorboard\n",
    "gcs_log_dir = \"gs://big_earth/model/logs\"\n",
    "\n",
    "for directory in [log_dir, model_dir]:\n",
    "    if not os.path.exists(directory):\n",
    "        os.makedirs(directory, exist_ok=True)"
   ]
  },
  {
   "cell_type": "code",
   "execution_count": 19,
   "metadata": {
    "scrolled": true
   },
   "outputs": [
    {
     "name": "stdout",
     "output_type": "stream",
     "text": [
      "(1, 44)\n",
      "(1,)\n"
     ]
    }
   ],
   "source": [
    "import json\n",
    "# np.array(json.loads(df['binarized_labels'].iloc[0])).shape\n",
    "\n",
    "def prepare_data(df):\n",
    "    df['has_cloud_and_shadow_target'] = df['has_cloud_and_shadow_target'].apply(lambda x: np.array(json.loads(x)))\n",
    "    df['binarized_labels'] = df['binarized_labels'].apply(lambda x: np.array(json.loads(x)))    \n",
    "    df['image_path'] = root + \"/npy_image_files/\" + df['image_prefix'] + \".npy\"\n",
    "    return df\n",
    "\n",
    "df = pd.read_csv(root + \"/metadata/metadata.csv\")\n",
    "df = prepare_data(df)\n",
    "print(df['binarized_labels'].iloc[0].shape)\n",
    "print(df['has_cloud_and_shadow_target'].iloc[0].shape)\n",
    "df = df.set_index('image_prefix', drop=False)"
   ]
  },
  {
   "cell_type": "code",
   "execution_count": 73,
   "metadata": {},
   "outputs": [
    {
     "name": "stdout",
     "output_type": "stream",
     "text": [
      "1907 253 240\n",
      "True\n"
     ]
    }
   ],
   "source": [
    "# len(pd.read_csv(root + '/google_automl_cloud_and_shadow_dataset.csv'))\n",
    "\n",
    "google_automl_dataset = pd.read_csv( '/app/data_science/google_automl_cloud_and_shadow_dataset_small.csv')\n",
    "google_automl_dataset['image_prefix'] = google_automl_dataset['gcs_uri'].str.split('/').apply(lambda x: x[-1].replace(\".png\", \"\"))\n",
    "google_automl_dataset = google_automl_dataset.set_index('image_prefix', drop=False)\n",
    "\n",
    "train = df.loc[google_automl_dataset[google_automl_dataset['set'] == 'TRAIN'].index]\n",
    "valid = df.loc[google_automl_dataset[google_automl_dataset['set'] == 'VALIDATION'].index]\n",
    "test = df.loc[google_automl_dataset[google_automl_dataset['set'] == 'TEST'].index]\n",
    "\n",
    "print(len(train), len(valid), len(test))\n",
    "print(len(train) + len(valid) + len(test) == len(google_automl_dataset))"
   ]
  },
  {
   "cell_type": "code",
   "execution_count": 22,
   "metadata": {},
   "outputs": [],
   "source": [
    "if os.path.exists(root + '/cloud_and_shadow_stats.csv'):\n",
    "    all_stats = pd.read_csv(root + '/cloud_and_shadow_stats.csv')\n",
    "else:\n",
    "    stat_list = []\n",
    "    npy_image_dir = root + \"/npy_image_files\"\n",
    "    npy_files = [npy_image_dir + \"/\" + file + \".npy\" for file in train['image_prefix'].values]\n",
    "    start = time.time()\n",
    "    stats = stats_for_numpy_images(npy_files,  use_test_data=False)\n",
    "    stats['data'] = 'all'\n",
    "    stat_list.append(stats)\n",
    "    \n",
    "    # get stats per class\n",
    "    no_cloud = train[train['has_cloud_and_shadow'] == 0]\n",
    "    cloud = train[train['has_cloud_and_shadow'] == 1]\n",
    "    print(len(no_cloud), len(cloud))\n",
    "\n",
    "    for name, data in [('no_cloud', no_cloud), ('cloud', cloud)]:\n",
    "        npy_files = [npy_image_dir + \"/\" + file + \".npy\" for file in data['image_prefix'].values]\n",
    "        stats = stats_for_numpy_images(npy_files,  use_test_data=False)\n",
    "        stats['data'] = name\n",
    "        stat_list.append(stats)    \n",
    "    \n",
    "    all_stats = pd.concat(stat_list)\n",
    "    all_stats['band'] = all_stats.index\n",
    "    all_stats = all_stats.reset_index()  \n",
    "    all_stats = all_stats.drop('index', axis=1)    \n",
    "    all_stats.to_csv(root + '/cloud_and_shadow_stats.csv', index=False)\n",
    "        \n",
    "    print(f'stats computed in {time.time() - start}')"
   ]
  },
  {
   "cell_type": "code",
   "execution_count": 23,
   "metadata": {},
   "outputs": [],
   "source": [
    "stats = all_stats[all_stats['data'] == 'all']"
   ]
  },
  {
   "cell_type": "code",
   "execution_count": 24,
   "metadata": {},
   "outputs": [
    {
     "name": "stdout",
     "output_type": "stream",
     "text": [
      "(1907, 1) (1,)\n",
      "(1907, 1) (1,)\n"
     ]
    }
   ],
   "source": [
    "x_train = train['image_path'].values\n",
    "x_valid = valid['image_path'].values\n",
    "x_test = test['image_path'].values\n",
    "\n",
    "target = 'has_cloud_and_shadow_target'\n",
    "y_train = np.stack(train[target].values)\n",
    "y_valid = np.stack(valid[target].values)\n",
    "y_test = np.stack(test[target].values)\n",
    "\n",
    "print(y_train.shape, y_train[0].shape)\n",
    "\n",
    "if use_small_dataset:\n",
    "    size = batch_size\n",
    "    n_epochs = 3\n",
    "    x_train = np.concatenate([x_train[:size], x_train[-size:]])\n",
    "    x_valid = np.concatenate([x_valid[:size], x_valid[-size:]])\n",
    "    x_test = np.concatenate([x_test[:size], x_test[-size:]])\n",
    "\n",
    "    y_train = np.concatenate([y_train[:size], y_train[-size:]])\n",
    "    y_valid = np.concatenate([y_valid[:size], y_valid[-size:]])\n",
    "    y_test = np.concatenate([y_test[:size], y_test[-size:]])\n",
    "elif use_random_small_dataset:\n",
    "    shape = (100, 1)\n",
    "    x_train = np.concatenate([np.ones(shape), np.zeros(shape)])\n",
    "    y_train = np.concatenate([np.ones(shape), np.zeros(shape)])\n",
    "\n",
    "    x_valid = np.concatenate([np.ones(shape), np.zeros(shape)])\n",
    "    y_valid = np.concatenate([np.ones(shape), np.zeros(shape)])\n",
    "\n",
    "    y_train = np.random.randint(0, 2, (len(train), 44))\n",
    "    y_valid = np.random.randint(0, 2, (len(valid), 44))\n",
    "    y_test = np.random.randint(0, 2, (len(test), 44))\n",
    "    y_test_labels = test['labels'].values\n",
    "\n",
    "print(y_train.shape, y_train[0].shape)"
   ]
  },
  {
   "cell_type": "code",
   "execution_count": 47,
   "metadata": {},
   "outputs": [
    {
     "name": "stdout",
     "output_type": "stream",
     "text": [
      "(128, 43200) (43200,) (128,) ()\n",
      "0.578125\n"
     ]
    },
    {
     "name": "stderr",
     "output_type": "stream",
     "text": [
      "/app/env/lib/python3.6/site-packages/sklearn/linear_model/_logistic.py:940: ConvergenceWarning: lbfgs failed to converge (status=1):\n",
      "STOP: TOTAL NO. of ITERATIONS REACHED LIMIT.\n",
      "\n",
      "Increase the number of iterations (max_iter) or scale the data as shown in:\n",
      "    https://scikit-learn.org/stable/modules/preprocessing.html\n",
      "Please also refer to the documentation for alternative solver options:\n",
      "    https://scikit-learn.org/stable/modules/linear_model.html#logistic-regression\n",
      "  extra_warning_msg=_LOGISTIC_SOLVER_CONVERGENCE_MSG)\n"
     ]
    }
   ],
   "source": [
    "# sanity check the generator output\n",
    "train_batch_generator = SklearnBatchGenerator(x_train, y_train, batch_size, augmentations=None, band_stats=stats)\n",
    "valid_batch_generator = SklearnBatchGenerator(x_valid, y_valid, batch_size, augmentations=None, band_stats=stats)\n",
    "\n",
    "train_batch_generator.on_epoch_end()\n",
    "valid_batch_generator.on_epoch_end()\n",
    "\n",
    "clf = LogisticRegression()\n",
    "x, y = train_batch_generator[0]\n",
    "print(x.shape, x[0].shape, y.shape, y[0].shape)\n",
    "assert x.shape[-1] == 120 * 120 * 3\n",
    "clf.fit(x, y)\n",
    "\n",
    "x, y = valid_batch_generator[0]\n",
    "pred = clf.predict(x)\n",
    "print(accuracy_score(pred, y))"
   ]
  },
  {
   "cell_type": "code",
   "execution_count": 37,
   "metadata": {},
   "outputs": [
    {
     "name": "stdout",
     "output_type": "stream",
     "text": [
      "-0.10206464037739119 0.7773150344788853\n",
      "0.16596680244425602 1.2894328989937456\n",
      "-0.09893486670253278 0.8420917188229359\n",
      "0.10821455850320236 1.169033578217063\n",
      "-0.06045265741658473 0.8739845011385395\n"
     ]
    }
   ],
   "source": [
    "# check that the pixel values are different and reasonable\n",
    "num_outputs = 0\n",
    "for batch_x, batch_y in train_batch_generator.make_one_shot_iterator():\n",
    "    print(batch_x.mean(), batch_x.std())\n",
    "    num_outputs += 1\n",
    "    if num_outputs > 4:\n",
    "        break"
   ]
  },
  {
   "cell_type": "code",
   "execution_count": 38,
   "metadata": {},
   "outputs": [
    {
     "name": "stdout",
     "output_type": "stream",
     "text": [
      "['/home/jovyan/work/npy_image_files/S2B_MSIL2A_20170808T094029_36_82.npy'\n",
      " '/home/jovyan/work/npy_image_files/S2B_MSIL2A_20170906T101019_24_38.npy'\n",
      " '/home/jovyan/work/npy_image_files/S2B_MSIL2A_20180204T94161_32_32.npy'\n",
      " '/home/jovyan/work/npy_image_files/S2B_MSIL2A_20170709T094029_9_84.npy'\n",
      " '/home/jovyan/work/npy_image_files/S2B_MSIL2A_20180422T093029_80_79.npy']\n",
      "\n",
      "\n",
      "\n",
      "['/home/jovyan/work/npy_image_files/S2A_MSIL2A_20170701T093031_74_66.npy'\n",
      " '/home/jovyan/work/npy_image_files/S2A_MSIL2A_20170717T113321_80_14.npy'\n",
      " '/home/jovyan/work/npy_image_files/S2B_MSIL2A_20171112T114339_60_88.npy'\n",
      " '/home/jovyan/work/npy_image_files/S2B_MSIL2A_20170906T101019_37_90.npy'\n",
      " '/home/jovyan/work/npy_image_files/S2B_MSIL2A_20170709T094029_41_25.npy']\n"
     ]
    }
   ],
   "source": [
    "# make sure shuffle works\n",
    "print(train_batch_generator.x[:5])\n",
    "print('\\n\\n')\n",
    "train_batch_generator.on_epoch_end()\n",
    "print(train_batch_generator.x[:5])"
   ]
  },
  {
   "cell_type": "code",
   "execution_count": 25,
   "metadata": {},
   "outputs": [],
   "source": [
    "gcs_client = storage.Client()\n",
    "bucket = gcs_client.bucket(\"big_earth\")"
   ]
  },
  {
   "cell_type": "code",
   "execution_count": 48,
   "metadata": {},
   "outputs": [
    {
     "name": "stdout",
     "output_type": "stream",
     "text": [
      "epoch_num 1 - 3.0593 sec - 0.43873517786561267\n",
      "epoch_num 2 - 3.1101 sec - 0.4505928853754941\n",
      "epoch_num 3 - 3.0580 sec - 0.6205533596837944\n",
      "epoch_num 4 - 3.0930 sec - 0.616600790513834\n",
      "epoch_num 5 - 3.0623 sec - 0.5928853754940712\n",
      "epoch_num 6 - 3.1018 sec - 0.6245059288537549\n",
      "epoch_num 7 - 3.0605 sec - 0.466403162055336\n",
      "epoch_num 8 - 3.0389 sec - 0.6324110671936759\n",
      "epoch_num 9 - 3.0618 sec - 0.4426877470355731\n",
      "training completed in 2.9220175743103027 seconds\n",
      "prediction completed in 3.05938982963562 seconds\n",
      "epoch_num 10 - 3.0601 sec - 0.5849802371541502\n",
      "epoch_num 11 - 3.0370 sec - 0.6126482213438735\n",
      "epoch_num 12 - 3.0287 sec - 0.5098814229249012\n",
      "epoch_num 13 - 3.0451 sec - 0.6284584980237155\n",
      "epoch_num 14 - 3.1046 sec - 0.6561264822134387\n",
      "epoch_num 15 - 3.0501 sec - 0.5138339920948617\n",
      "epoch_num 16 - 3.0550 sec - 0.5296442687747036\n",
      "epoch_num 17 - 3.0520 sec - 0.6482213438735178\n",
      "epoch_num 18 - 3.0502 sec - 0.44664031620553357\n",
      "epoch_num 19 - 3.0625 sec - 0.6363636363636364\n",
      "training completed in 2.919490098953247 seconds\n",
      "prediction completed in 3.0856382846832275 seconds\n",
      "epoch_num 20 - 3.0867 sec - 0.6719367588932806\n",
      "epoch_num 21 - 3.0657 sec - 0.6086956521739131\n",
      "epoch_num 22 - 3.0423 sec - 0.6324110671936759\n",
      "epoch_num 23 - 3.0413 sec - 0.4743083003952569\n",
      "epoch_num 24 - 3.0517 sec - 0.5770750988142292\n",
      "epoch_num 25 - 3.0611 sec - 0.6284584980237155\n",
      "epoch_num 26 - 3.0517 sec - 0.6521739130434783\n",
      "epoch_num 27 - 3.0666 sec - 0.6561264822134387\n",
      "epoch_num 28 - 3.0423 sec - 0.6600790513833992\n",
      "epoch_num 29 - 3.0877 sec - 0.5968379446640316\n",
      "training completed in 2.9327445030212402 seconds\n",
      "prediction completed in 3.1112546920776367 seconds\n",
      "epoch_num 30 - 3.1118 sec - 0.6403162055335968\n",
      "epoch_num 31 - 3.0993 sec - 0.466403162055336\n",
      "epoch_num 32 - 3.0838 sec - 0.4505928853754941\n",
      "epoch_num 33 - 3.0616 sec - 0.6245059288537549\n",
      "epoch_num 34 - 3.1056 sec - 0.6521739130434783\n",
      "epoch_num 35 - 3.0779 sec - 0.6521739130434783\n",
      "Ending training due to no improvement\n"
     ]
    }
   ],
   "source": [
    "import joblib \n",
    "\n",
    "history = list()\n",
    "\n",
    "classes = np.array([0, 1])\n",
    "epochs_without_improvement = 0\n",
    "\n",
    "now = datetime.datetime.utcnow().strftime(\"%Y-%m-%dT%H:%M:%SZ\")\n",
    "experiment_name = f\"sgd_classifier_default_2020_1_31\"\n",
    "gcs_model_dir = \"model/models\"\n",
    "model_path = os.path.join(model_dir, experiment_name + \".joblib\")\n",
    "model_gcs_path = os.path.join(gcs_model_dir, experiment_name + \".joblib\")\n",
    "model_metadata_path = os.path.join(model_dir, experiment_name + \"_metadata.json\")\n",
    "model_metadata_gcs_path = os.path.join(gcs_model_dir, experiment_name + \"_metadata.json\")\n",
    "\n",
    "model, model_base_metadata = get_model_and_metadata_from_gcs(bucket, model_dir, \"joblib\", joblib.load, gcs_model_dir, \n",
    "                                                             experiment_name)\n",
    "\n",
    "if model is not None:\n",
    "    print('Resuming training at epoch', model_base_metadata['epoch'])\n",
    "else:\n",
    "    model = SGDClassifier(loss='log')\n",
    "    model_base_metadata = {\n",
    "        'data': 'train_valid_google_automl_cloud_and_shadow_dataset_small.csv',\n",
    "        'data_prep': 'normalization_augmentation',\n",
    "        'experiment_name': experiment_name,\n",
    "        'experiment_start_time': now,\n",
    "        'model': SGDClassifier.__name__,\n",
    "        'random_state': random_seed,\n",
    "        'epoch': 0\n",
    "    }\n",
    "        \n",
    "# Shuffle the data\n",
    "train_batch_generator.on_epoch_end()\n",
    "valid_batch_generator.on_epoch_end()\n",
    "train_start = time.time()\n",
    "best_model = None\n",
    "max_accuracy_valid = None\n",
    "early_stopping_patience = 15\n",
    "for epoch in range(int(model_base_metadata['epoch']) + 1, n_epochs):\n",
    "    start = time.time()\n",
    "    for batch_x, batch_y in train_batch_generator.make_one_shot_iterator():\n",
    "        model.partial_fit(batch_x, batch_y, classes=classes)\n",
    "    \n",
    "    if epoch % 10 == 0:\n",
    "        print(\"training completed in\", time.time() - start, \"seconds\")\n",
    "    \n",
    "    start = time.time()\n",
    "    \n",
    "    actual_y_train, pred_y_train = train_batch_generator.get_predictions(model)\n",
    "    actual_y_valid, pred_y_valid = valid_batch_generator.get_predictions(model)\n",
    "    \n",
    "    if epoch % 10 == 0:\n",
    "        print(\"prediction completed in\", time.time() - start, \"seconds\")\n",
    "\n",
    "    epoch_time = f\"{time.time() - start:.4f}\"\n",
    "    epoch_metrics = {\n",
    "        'accuracy_train': sklearn.metrics.accuracy_score(actual_y_train, pred_y_train),\n",
    "        'accuracy_valid': sklearn.metrics.accuracy_score(actual_y_valid, pred_y_valid),        \n",
    "        \"f1_score_train\": sklearn.metrics.f1_score(actual_y_train, pred_y_train),\n",
    "        \"f1_score_valid\": sklearn.metrics.f1_score(actual_y_valid, pred_y_valid),        \n",
    "    }\n",
    "    history.append(epoch_metrics)\n",
    "    \n",
    "    print(\"epoch_num\", epoch, \"-\", epoch_time, \"sec -\", epoch_metrics['accuracy_valid'])\n",
    "    \n",
    "    if max_accuracy_valid is None or epoch_metrics['accuracy_valid'] > max_accuracy_valid:\n",
    "        max_accuracy_valid = epoch_metrics['accuracy_valid']\n",
    "        dump(model, model_path)\n",
    "        with open(model_metadata_path, 'w+') as json_file:\n",
    "            model_base_metadata.update({\n",
    "                'epoch': str(epoch),\n",
    "                'confusion_matrix': numpy_to_json(confusion_matrix(actual_y_valid, pred_y_valid)),\n",
    "                'precision_recall_curve': sklearn_precision_recall_curve_to_dict(\n",
    "                    sklearn.metrics.precision_recall_curve(actual_y_valid, pred_y_valid)),\n",
    "                'history': history,\n",
    "                'train_time_elapsed': time.time() - train_start\n",
    "            })\n",
    "            json.dump(model_base_metadata, json_file)\n",
    "        \n",
    "        for filename, gcs_filename in [(model_path, model_gcs_path), (model_metadata_path, model_metadata_gcs_path)]:\n",
    "            blob = bucket.blob(gcs_filename)\n",
    "            blob.upload_from_filename(filename)\n",
    "            \n",
    "        epochs_without_improvement = 0\n",
    "    else:\n",
    "        epochs_without_improvement += 1\n",
    "        \n",
    "    if epochs_without_improvement == early_stopping_patience:\n",
    "        print(\"Ending training due to no improvement\")\n",
    "        break\n",
    "        \n",
    "    train_batch_generator.on_epoch_end()\n",
    "    valid_batch_generator.on_epoch_end()\n"
   ]
  },
  {
   "cell_type": "code",
   "execution_count": 26,
   "metadata": {},
   "outputs": [
    {
     "name": "stdout",
     "output_type": "stream",
     "text": [
      "WARNING:tensorflow:From <ipython-input-26-db030c091b62>:72: DatasetV1.make_one_shot_iterator (from tensorflow.python.data.ops.dataset_ops) is deprecated and will be removed in a future version.\n",
      "Instructions for updating:\n",
      "Use `for ... in dataset:` to iterate over a dataset. If using `tf.estimator`, return the `Dataset` object directly from your input function. As a last resort, you can use `tf.compat.v1.data.make_one_shot_iterator(dataset)`.\n",
      "(128, 120, 120, 3) [-0.40449912 -0.40831072 -0.44344246] (128, 1) [0]\n",
      "-0.12655985422318042 0.716287449597309 -0.6573675908079565 7.192235301928257\n",
      "0.07539114904057029 1.0866737281187882 -0.6573675908079565 8.951315044041168\n",
      "-0.028186219777534743 0.9420864239935469 -0.6573675908079565 7.572212382354717\n",
      "0.004984226662736775 1.0031857314055865 -0.6573675908079565 8.829071533913487\n",
      "0.10400321329363685 1.1527845467684517 -0.6573675908079565 8.85020709407575\n",
      "\n",
      "\n",
      "Image dataset finished 15 batches with 1907 elements in 22.46143341064453\n",
      "\n",
      "\n",
      "binary_crossentropy - random numbers 0.8313342065284498\n",
      "binary_crossentropy - cnn with initial weights - actual data 0.7286205\n"
     ]
    },
    {
     "data": {
      "text/plain": [
       "array([[<matplotlib.axes._subplots.AxesSubplot object at 0x7fe849f9b8d0>]],\n",
       "      dtype=object)"
      ]
     },
     "execution_count": 26,
     "metadata": {},
     "output_type": "execute_result"
    },
    {
     "data": {
      "image/png": "[encoded data removed]",
      "text/plain": [
       "<Figure size 432x288 with 1 Axes>"
      ]
     },
     "metadata": {
      "needs_background": "light"
     },
     "output_type": "display_data"
    }
   ],
   "source": [
    "train_dataset = get_image_dataset(x_train, y_train, augmentations=None, band_stats=stats, batch_size=128)\n",
    "\n",
    "# train_generator = AugmentedImageSequenceFromNpy(x=x_train, y=y_train, batch_size=batch_size,\n",
    "#                                                 augmentations=None, band_stats=stats)\n",
    "\n",
    "# imgs, labels = train_generator[0]\n",
    "# print(imgs.shape, imgs[0][0][0], labels.shape, labels[0])\n",
    "\n",
    "# num_outputs = 0\n",
    "# for batch_x, batch_y in train_generator.make_one_shot_iterator():\n",
    "#     print(batch_x.mean(), batch_x.std(), batch_x.min(), batch_x.max())\n",
    "#     num_outputs += 1\n",
    "#     if num_outputs > 4:\n",
    "#         break\n",
    "\n",
    "num_outputs = 0\n",
    "train_iter = train_dataset.make_one_shot_iterator()\n",
    "imgs, labels = train_iter.get_next()\n",
    "print(imgs.shape, imgs.numpy()[0][0][0], labels.shape, labels.numpy()[0])\n",
    "\n",
    "for batch_x, batch_y in train_dataset.make_one_shot_iterator():\n",
    "    batch_x = batch_x.numpy() \n",
    "    print(batch_x.mean(), batch_x.std(), batch_x.min(), batch_x.max())\n",
    "    num_outputs += 1\n",
    "    if num_outputs > 4:\n",
    "        break\n",
    "start = time.time()\n",
    "num_batches = 0\n",
    "num_els = 0\n",
    "train_dataset = get_image_dataset(x_train, y_train, augmentations=None, band_stats=stats, batch_size=batch_size)\n",
    "for x, y in train_dataset.make_one_shot_iterator():\n",
    "    num_batches += 1\n",
    "    num_els += len(x)    \n",
    "    continue\n",
    "print('\\n')\n",
    "print(f'Image dataset finished {num_batches} batches with {num_els} elements in {time.time() - start}')         \n",
    "\n",
    "from tensorflow.keras.losses import binary_crossentropy\n",
    "model = basic_cnn_model((120, 120, 3), n_classes)\n",
    "y_actual, y_pred, y_pred_probs = get_predictions_for_dataset(train_dataset, model)\n",
    "\n",
    "print('\\n')\n",
    "print('binary_crossentropy - random numbers', \n",
    "      binary_crossentropy(np.random.randint(2, size=128), np.random.random_sample(128)).numpy())\n",
    "print('binary_crossentropy - cnn with initial weights - actual data', \n",
    "      binary_crossentropy(y_actual, y_pred_probs).numpy())\n",
    "\n",
    "pd.DataFrame(y_pred_probs).hist()"
   ]
  },
  {
   "cell_type": "code",
   "execution_count": 27,
   "metadata": {},
   "outputs": [],
   "source": [
    "def train_keras_model(*, x_train, y_train, x_valid, y_valid, image_augmentations, bucket, model_dir, gcs_model_dir, gcs_log_dir, should_upload_to_gcs,\n",
    "                      experiment_name, start_model, should_train_from_scratch, lr, n_epochs=100,\n",
    "                     early_stopping_patience=6, metric_to_monitor='accuracy'):\n",
    "    model, model_base_metadata = get_model_and_metadata_from_gcs(bucket, model_dir, \"h5\", load_model, gcs_model_dir, experiment_name)\n",
    "\n",
    "    model_and_metadata_filepath = os.path.join(model_dir, experiment_name)\n",
    "    gcs_model_and_metadata_filepath = os.path.join(gcs_model_dir, experiment_name)\n",
    "    gcs_log_dir = os.path.join(gcs_log_dir, experiment_name)\n",
    "\n",
    "    if model is None or should_train_from_scratch:\n",
    "        now = datetime.datetime.utcnow().strftime(\"%Y-%m-%d %H:%M\")\n",
    "        model = start_model\n",
    "        model_base_metadata = {\n",
    "            'data': 'train_valid_google_automl_cloud_and_shadow_dataset_small.csv',\n",
    "            'data_prep': 'normalization_augmentation',\n",
    "            'experiment_name': experiment_name,\n",
    "            'experiment_start_time': now,\n",
    "            'model': 'keras_cnn',\n",
    "            'random_state': random_seed,\n",
    "            # so that initial_epoch is 0\n",
    "            'epoch': -1\n",
    "        }        \n",
    "    else:\n",
    "        print('Resuming training at epoch', int(model_base_metadata['epoch']) + 1)        \n",
    "\n",
    "    print(f'len(train): {len(x_train)}')\n",
    "\n",
    "    if x_valid is not None:\n",
    "        print(f'len(valid): {len(x_valid)}')\n",
    "        metric_to_monitor = f'val_{metric_to_monitor}'\n",
    "        valid_generator = get_image_dataset(x=x_valid, y=y_valid, augmentations=image_augmentations, band_stats=stats, \n",
    "                                                  batch_size=batch_size)\n",
    "    else:\n",
    "        valid_generator = None\n",
    "        \n",
    "    histories = []\n",
    "    metrics = ['accuracy']\n",
    "    loss = 'binary_crossentropy'\n",
    "\n",
    "    optimizer = Adam(learning_rate=lr)\n",
    "    model.compile(loss=loss, optimizer=optimizer, metrics=metrics)\n",
    "\n",
    "    verbosity = 0\n",
    "    # Generators\n",
    "#     train_generator = AugmentedImageSequenceFromNpy(x=x_train, y=y_train, batch_size=batch_size,\n",
    "#                                                     augmentations=None, band_stats=stats)\n",
    "#     valid_generator = AugmentedImageSequenceFromNpy(x=x_valid, y=y_valid, batch_size=batch_size,\n",
    "#                                                     augmentations=None, band_stats=stats)\n",
    "    train_generator = get_image_dataset(x=x_train, y=y_train, augmentations=image_augmentations, band_stats=stats, \n",
    "                                              batch_size=batch_size)\n",
    "    \n",
    "    callbacks = [\n",
    "        EarlyStopping(monitor=metric_to_monitor, patience=early_stopping_patience, verbose=verbosity),\n",
    "        ReduceLROnPlateau(monitor=metric_to_monitor, factor=0.5, patience=early_stopping_patience, min_lr=1e-6),\n",
    "        TensorBoard(gcs_log_dir, histogram_freq=1),\n",
    "    ]\n",
    "    \n",
    "    if should_upload_to_gcs:\n",
    "        callbacks.append(ModelCheckpointGCS(filepath=model_and_metadata_filepath, gcs_filepath=gcs_model_and_metadata_filepath, \n",
    "                           gcs_bucket=bucket, model_metadata=model_base_metadata, monitor=metric_to_monitor, \n",
    "                           verbose=verbosity))\n",
    "\n",
    "        \n",
    "    history = model.fit_generator(train_generator, initial_epoch=int(model_base_metadata['epoch']) + 1,\n",
    "                                  epochs=n_epochs,\n",
    "                                  callbacks=callbacks,\n",
    "                                  validation_data=valid_generator,\n",
    "                                  shuffle=True, verbose=1)\n",
    "    \n",
    "    actual_y_train, pred_y_train, pred_y_train_probs = get_predictions_for_dataset(train_generator, model)\n",
    "    \n",
    "    if valid_generator is not None:\n",
    "        actual_y_valid, pred_y_valid, pred_y_valid_probs = get_predictions_for_dataset(valid_generator, model) \n",
    "        \n",
    "    if should_upload_to_gcs:       \n",
    "        metadata_filepath = f\"{model_and_metadata_filepath}_metadata.json\"\n",
    "        with open(metadata_filepath, 'r') as json_file:\n",
    "            best_model_metadata = json.load(json_file)\n",
    "\n",
    "        best_model_metadata.update({\n",
    "            'accuracy_train': sklearn.metrics.accuracy_score(actual_y_train, pred_y_train),\n",
    "            'accuracy_valid': sklearn.metrics.accuracy_score(actual_y_valid, pred_y_valid),\n",
    "            'f1_score_train': sklearn.metrics.f1_score(actual_y_train, pred_y_train),\n",
    "            'f1_score_valid': sklearn.metrics.f1_score(actual_y_valid, pred_y_valid),\n",
    "            'confusion_matrix': numpy_to_json(sklearn.metrics.confusion_matrix(actual_y_valid, pred_y_valid)),\n",
    "            'precision_recall_curve': sklearn_precision_recall_curve_to_dict(\n",
    "                sklearn.metrics.precision_recall_curve(actual_y_valid, pred_y_valid)),\n",
    "        })\n",
    "\n",
    "        with open(metadata_filepath, 'w+') as json_file:\n",
    "            json.dump(best_model_metadata, json_file)\n",
    "\n",
    "        blob = bucket.blob(f\"{gcs_model_and_metadata_filepath}_metadata.json\")\n",
    "        blob.upload_from_filename(metadata_filepath)\n",
    "    \n",
    "    if valid_generator is not None:\n",
    "        return model, history, actual_y_valid, pred_y_valid, pred_y_valid_probs\n",
    "    else:\n",
    "        return model, history, actual_y_train, pred_y_train, pred_y_train_probs        \n",
    "    \n",
    "    # Attempt to avoid memory leaks\n",
    "    del train_generator\n",
    "    del valid_generator\n",
    "    gc.collect()\n",
    "    \n",
    "# if os.environ.get(\"SHOULD_PREDICT\", \"True\") == \"True\":\n",
    "#     pred_test_labels = predict(model=model, weight_dir=model_path, x=x_test, batch_size=batch_size, n_classes=n_classes)\n",
    "#     clf_report = classification_report(y_test_labels, pred_test_labels, target_names=classes)\n",
    "#     print(clf_report)"
   ]
  },
  {
   "cell_type": "code",
   "execution_count": 229,
   "metadata": {
    "scrolled": true
   },
   "outputs": [
    {
     "name": "stdout",
     "output_type": "stream",
     "text": [
      "Downloading model blob.\n",
      "len(train): 10\n",
      "Epoch 1/100\n",
      "1/1 [==============================] - 1s 1s/step - loss: 0.7489 - accuracy: 0.3000\n",
      "Epoch 2/100\n",
      "WARNING:tensorflow:Method (on_train_batch_end) is slow compared to the batch update (1.871635). Check your callbacks.\n",
      "1/1 [==============================] - 3s 3s/step - loss: 0.5099 - accuracy: 0.9000\n",
      "Epoch 3/100\n",
      "1/1 [==============================] - 1s 1s/step - loss: 0.3779 - accuracy: 0.9000\n",
      "Epoch 4/100\n",
      "1/1 [==============================] - 1s 1s/step - loss: 0.2524 - accuracy: 1.0000\n",
      "Epoch 5/100\n",
      "1/1 [==============================] - 1s 1s/step - loss: 0.1878 - accuracy: 1.0000\n",
      "Epoch 6/100\n",
      "1/1 [==============================] - 1s 1s/step - loss: 0.1290 - accuracy: 1.0000\n",
      "Epoch 7/100\n",
      "1/1 [==============================] - 1s 1s/step - loss: 0.0910 - accuracy: 1.0000\n",
      "Epoch 8/100\n",
      "1/1 [==============================] - 1s 1s/step - loss: 0.0656 - accuracy: 1.0000\n",
      "Epoch 9/100\n",
      "1/1 [==============================] - 1s 1s/step - loss: 0.0450 - accuracy: 1.0000\n",
      "Epoch 10/100\n",
      "1/1 [==============================] - 1s 1s/step - loss: 0.0300 - accuracy: 1.0000\n",
      "Epoch 11/100\n",
      "1/1 [==============================] - 1s 1s/step - loss: 0.0209 - accuracy: 1.0000\n",
      "Epoch 12/100\n",
      "1/1 [==============================] - 3s 3s/step - loss: 0.0152 - accuracy: 1.0000\n",
      "Epoch 13/100\n",
      "1/1 [==============================] - 1s 1s/step - loss: 0.0112 - accuracy: 1.0000\n",
      "Epoch 14/100\n",
      "1/1 [==============================] - 1s 1s/step - loss: 0.0082 - accuracy: 1.0000\n",
      "Epoch 15/100\n"
     ]
    },
    {
     "ename": "KeyboardInterrupt",
     "evalue": "",
     "output_type": "error",
     "traceback": [
      "\u001b[0;31m---------------------------------------------------------------------------\u001b[0m",
      "\u001b[0;31mKeyboardInterrupt\u001b[0m                         Traceback (most recent call last)",
      "\u001b[0;32m<ipython-input-229-25f417cb669b>\u001b[0m in \u001b[0;36m<module>\u001b[0;34m\u001b[0m\n\u001b[1;32m     11\u001b[0m     \u001b[0mexperiment_name\u001b[0m\u001b[0;34m=\u001b[0m\u001b[0mexperiment_name\u001b[0m\u001b[0;34m,\u001b[0m \u001b[0mstart_model\u001b[0m\u001b[0;34m=\u001b[0m\u001b[0mmodel\u001b[0m\u001b[0;34m,\u001b[0m \u001b[0mshould_train_from_scratch\u001b[0m\u001b[0;34m=\u001b[0m\u001b[0;32mTrue\u001b[0m\u001b[0;34m,\u001b[0m \u001b[0mlr\u001b[0m\u001b[0;34m=\u001b[0m\u001b[0;36m1e-4\u001b[0m\u001b[0;34m,\u001b[0m\u001b[0;34m\u001b[0m\u001b[0;34m\u001b[0m\u001b[0m\n\u001b[1;32m     12\u001b[0m     \u001b[0mshould_upload_to_gcs\u001b[0m\u001b[0;34m=\u001b[0m\u001b[0;32mFalse\u001b[0m\u001b[0;34m,\u001b[0m\u001b[0;34m\u001b[0m\u001b[0;34m\u001b[0m\u001b[0m\n\u001b[0;32m---> 13\u001b[0;31m     n_epochs=100, early_stopping_patience=10, metric_to_monitor='loss')\n\u001b[0m\u001b[1;32m     14\u001b[0m \u001b[0mpd\u001b[0m\u001b[0;34m.\u001b[0m\u001b[0mDataFrame\u001b[0m\u001b[0;34m(\u001b[0m\u001b[0my_pred_probs\u001b[0m\u001b[0;34m)\u001b[0m\u001b[0;34m.\u001b[0m\u001b[0mhist\u001b[0m\u001b[0;34m(\u001b[0m\u001b[0;34m)\u001b[0m\u001b[0;34m\u001b[0m\u001b[0;34m\u001b[0m\u001b[0m\n",
      "\u001b[0;32m<ipython-input-223-078089accbd5>\u001b[0m in \u001b[0;36mtrain_keras_model\u001b[0;34m(x_train, y_train, x_valid, y_valid, image_augmentations, bucket, model_dir, gcs_model_dir, gcs_log_dir, should_upload_to_gcs, experiment_name, start_model, should_train_from_scratch, lr, n_epochs, early_stopping_patience, metric_to_monitor)\u001b[0m\n\u001b[1;32m     66\u001b[0m                                   \u001b[0mcallbacks\u001b[0m\u001b[0;34m=\u001b[0m\u001b[0mcallbacks\u001b[0m\u001b[0;34m,\u001b[0m\u001b[0;34m\u001b[0m\u001b[0;34m\u001b[0m\u001b[0m\n\u001b[1;32m     67\u001b[0m                                   \u001b[0mvalidation_data\u001b[0m\u001b[0;34m=\u001b[0m\u001b[0mvalid_generator\u001b[0m\u001b[0;34m,\u001b[0m\u001b[0;34m\u001b[0m\u001b[0;34m\u001b[0m\u001b[0m\n\u001b[0;32m---> 68\u001b[0;31m                                   shuffle=True, verbose=1)\n\u001b[0m\u001b[1;32m     69\u001b[0m \u001b[0;34m\u001b[0m\u001b[0m\n\u001b[1;32m     70\u001b[0m     \u001b[0mactual_y_train\u001b[0m\u001b[0;34m,\u001b[0m \u001b[0mpred_y_train\u001b[0m\u001b[0;34m,\u001b[0m \u001b[0mpred_y_train_probs\u001b[0m \u001b[0;34m=\u001b[0m \u001b[0mget_predictions_for_dataset\u001b[0m\u001b[0;34m(\u001b[0m\u001b[0mtrain_generator\u001b[0m\u001b[0;34m,\u001b[0m \u001b[0mmodel\u001b[0m\u001b[0;34m)\u001b[0m\u001b[0;34m\u001b[0m\u001b[0;34m\u001b[0m\u001b[0m\n",
      "\u001b[0;32m/app/env/lib/python3.6/site-packages/tensorflow_core/python/keras/engine/training.py\u001b[0m in \u001b[0;36mfit_generator\u001b[0;34m(self, generator, steps_per_epoch, epochs, verbose, callbacks, validation_data, validation_steps, validation_freq, class_weight, max_queue_size, workers, use_multiprocessing, shuffle, initial_epoch)\u001b[0m\n\u001b[1;32m   1295\u001b[0m         \u001b[0mepochs\u001b[0m\u001b[0;34m=\u001b[0m\u001b[0mepochs\u001b[0m\u001b[0;34m,\u001b[0m\u001b[0;34m\u001b[0m\u001b[0;34m\u001b[0m\u001b[0m\n\u001b[1;32m   1296\u001b[0m         \u001b[0mverbose\u001b[0m\u001b[0;34m=\u001b[0m\u001b[0mverbose\u001b[0m\u001b[0;34m,\u001b[0m\u001b[0;34m\u001b[0m\u001b[0;34m\u001b[0m\u001b[0m\n\u001b[0;32m-> 1297\u001b[0;31m         \u001b[0mcallbacks\u001b[0m\u001b[0;34m=\u001b[0m\u001b[0mcallbacks\u001b[0m\u001b[0;34m,\u001b[0m\u001b[0;34m\u001b[0m\u001b[0;34m\u001b[0m\u001b[0m\n\u001b[0m\u001b[1;32m   1298\u001b[0m         \u001b[0mvalidation_data\u001b[0m\u001b[0;34m=\u001b[0m\u001b[0mvalidation_data\u001b[0m\u001b[0;34m,\u001b[0m\u001b[0;34m\u001b[0m\u001b[0;34m\u001b[0m\u001b[0m\n\u001b[1;32m   1299\u001b[0m         \u001b[0mvalidation_steps\u001b[0m\u001b[0;34m=\u001b[0m\u001b[0mvalidation_steps\u001b[0m\u001b[0;34m,\u001b[0m\u001b[0;34m\u001b[0m\u001b[0;34m\u001b[0m\u001b[0m\n",
      "\u001b[0;32m/app/env/lib/python3.6/site-packages/tensorflow_core/python/keras/engine/training_generator.py\u001b[0m in \u001b[0;36mmodel_iteration\u001b[0;34m(model, data, steps_per_epoch, epochs, verbose, callbacks, validation_data, validation_steps, validation_freq, class_weight, max_queue_size, workers, use_multiprocessing, shuffle, initial_epoch, mode, batch_size, steps_name, **kwargs)\u001b[0m\n\u001b[1;32m    330\u001b[0m     \u001b[0;32mif\u001b[0m \u001b[0mmode\u001b[0m \u001b[0;34m==\u001b[0m \u001b[0mModeKeys\u001b[0m\u001b[0;34m.\u001b[0m\u001b[0mTRAIN\u001b[0m\u001b[0;34m:\u001b[0m\u001b[0;34m\u001b[0m\u001b[0;34m\u001b[0m\u001b[0m\n\u001b[1;32m    331\u001b[0m       \u001b[0;31m# Epochs only apply to `fit`.\u001b[0m\u001b[0;34m\u001b[0m\u001b[0;34m\u001b[0m\u001b[0;34m\u001b[0m\u001b[0m\n\u001b[0;32m--> 332\u001b[0;31m       \u001b[0mcallbacks\u001b[0m\u001b[0;34m.\u001b[0m\u001b[0mon_epoch_end\u001b[0m\u001b[0;34m(\u001b[0m\u001b[0mepoch\u001b[0m\u001b[0;34m,\u001b[0m \u001b[0mepoch_logs\u001b[0m\u001b[0;34m)\u001b[0m\u001b[0;34m\u001b[0m\u001b[0;34m\u001b[0m\u001b[0m\n\u001b[0m\u001b[1;32m    333\u001b[0m     \u001b[0mprogbar\u001b[0m\u001b[0;34m.\u001b[0m\u001b[0mon_epoch_end\u001b[0m\u001b[0;34m(\u001b[0m\u001b[0mepoch\u001b[0m\u001b[0;34m,\u001b[0m \u001b[0mepoch_logs\u001b[0m\u001b[0;34m)\u001b[0m\u001b[0;34m\u001b[0m\u001b[0;34m\u001b[0m\u001b[0m\n\u001b[1;32m    334\u001b[0m \u001b[0;34m\u001b[0m\u001b[0m\n",
      "\u001b[0;32m/app/env/lib/python3.6/site-packages/tensorflow_core/python/keras/callbacks.py\u001b[0m in \u001b[0;36mon_epoch_end\u001b[0;34m(self, epoch, logs)\u001b[0m\n\u001b[1;32m    296\u001b[0m         \u001b[0mlogs\u001b[0m\u001b[0;34m:\u001b[0m \u001b[0mdict\u001b[0m\u001b[0;34m,\u001b[0m \u001b[0mmetric\u001b[0m \u001b[0mresults\u001b[0m \u001b[0;32mfor\u001b[0m \u001b[0mthis\u001b[0m \u001b[0mtraining\u001b[0m \u001b[0mepoch\u001b[0m\u001b[0;34m,\u001b[0m \u001b[0;32mand\u001b[0m \u001b[0;32mfor\u001b[0m \u001b[0mthe\u001b[0m\u001b[0;34m\u001b[0m\u001b[0;34m\u001b[0m\u001b[0m\n\u001b[1;32m    297\u001b[0m           \u001b[0mvalidation\u001b[0m \u001b[0mepoch\u001b[0m \u001b[0;32mif\u001b[0m \u001b[0mvalidation\u001b[0m \u001b[0;32mis\u001b[0m \u001b[0mperformed\u001b[0m\u001b[0;34m.\u001b[0m \u001b[0mValidation\u001b[0m \u001b[0mresult\u001b[0m \u001b[0mkeys\u001b[0m\u001b[0;34m\u001b[0m\u001b[0;34m\u001b[0m\u001b[0m\n\u001b[0;32m--> 298\u001b[0;31m           \u001b[0mare\u001b[0m \u001b[0mprefixed\u001b[0m \u001b[0;32mwith\u001b[0m\u001b[0;31m \u001b[0m\u001b[0;31m`\u001b[0m\u001b[0mval_\u001b[0m\u001b[0;31m`\u001b[0m\u001b[0;34m.\u001b[0m\u001b[0;34m\u001b[0m\u001b[0;34m\u001b[0m\u001b[0m\n\u001b[0m\u001b[1;32m    299\u001b[0m     \"\"\"\n\u001b[1;32m    300\u001b[0m     \u001b[0mlogs\u001b[0m \u001b[0;34m=\u001b[0m \u001b[0mlogs\u001b[0m \u001b[0;32mor\u001b[0m \u001b[0;34m{\u001b[0m\u001b[0;34m}\u001b[0m\u001b[0;34m\u001b[0m\u001b[0;34m\u001b[0m\u001b[0m\n",
      "\u001b[0;32m/app/env/lib/python3.6/site-packages/tensorflow_core/python/keras/callbacks.py\u001b[0m in \u001b[0;36mon_epoch_end\u001b[0;34m(self, epoch, logs)\u001b[0m\n\u001b[1;32m   1612\u001b[0m         \u001b[0mretrieve\u001b[0m \u001b[0ma\u001b[0m \u001b[0mwriter\u001b[0m\u001b[0;34m.\u001b[0m \u001b[0mShould\u001b[0m \u001b[0mbe\u001b[0m \u001b[0meither\u001b[0m\u001b[0;31m \u001b[0m\u001b[0;31m`\u001b[0m\u001b[0mself\u001b[0m\u001b[0;34m.\u001b[0m\u001b[0m_train_run_name\u001b[0m\u001b[0;31m`\u001b[0m \u001b[0;32mor\u001b[0m\u001b[0;34m\u001b[0m\u001b[0;34m\u001b[0m\u001b[0m\n\u001b[1;32m   1613\u001b[0m         \u001b[0;31m`\u001b[0m\u001b[0mself\u001b[0m\u001b[0;34m.\u001b[0m\u001b[0m_validation_run_name\u001b[0m\u001b[0;31m`\u001b[0m\u001b[0;34m.\u001b[0m\u001b[0;34m\u001b[0m\u001b[0;34m\u001b[0m\u001b[0m\n\u001b[0;32m-> 1614\u001b[0;31m \u001b[0;34m\u001b[0m\u001b[0m\n\u001b[0m\u001b[1;32m   1615\u001b[0m     \u001b[0mReturns\u001b[0m\u001b[0;34m:\u001b[0m\u001b[0;34m\u001b[0m\u001b[0;34m\u001b[0m\u001b[0m\n\u001b[1;32m   1616\u001b[0m       \u001b[0mA\u001b[0m\u001b[0;31m \u001b[0m\u001b[0;31m`\u001b[0m\u001b[0mSummaryWriter\u001b[0m\u001b[0;31m`\u001b[0m \u001b[0mobject\u001b[0m\u001b[0;34m.\u001b[0m\u001b[0;34m\u001b[0m\u001b[0;34m\u001b[0m\u001b[0m\n",
      "\u001b[0;32m/app/env/lib/python3.6/site-packages/tensorflow_core/python/keras/callbacks.py\u001b[0m in \u001b[0;36m_log_weights\u001b[0;34m(self, epoch)\u001b[0m\n\u001b[1;32m   1695\u001b[0m         \u001b[0mself\u001b[0m\u001b[0;34m.\u001b[0m\u001b[0m_log_trace\u001b[0m\u001b[0;34m(\u001b[0m\u001b[0;34m)\u001b[0m\u001b[0;34m\u001b[0m\u001b[0;34m\u001b[0m\u001b[0m\n\u001b[1;32m   1696\u001b[0m       elif (not self._is_tracing and\n\u001b[0;32m-> 1697\u001b[0;31m             math_ops.equal(train_batches, self._profile_batch - 1)):\n\u001b[0m\u001b[1;32m   1698\u001b[0m         \u001b[0mself\u001b[0m\u001b[0;34m.\u001b[0m\u001b[0m_enable_trace\u001b[0m\u001b[0;34m(\u001b[0m\u001b[0;34m)\u001b[0m\u001b[0;34m\u001b[0m\u001b[0;34m\u001b[0m\u001b[0m\n\u001b[1;32m   1699\u001b[0m \u001b[0;34m\u001b[0m\u001b[0m\n",
      "\u001b[0;32m/app/env/lib/python3.6/site-packages/tensorflow_core/python/ops/summary_ops_v2.py\u001b[0m in \u001b[0;36mflush\u001b[0;34m(self)\u001b[0m\n\u001b[1;32m    254\u001b[0m       \u001b[0;32myield\u001b[0m \u001b[0mself\u001b[0m\u001b[0;34m\u001b[0m\u001b[0;34m\u001b[0m\u001b[0m\n\u001b[1;32m    255\u001b[0m       \u001b[0;31m# Flushes the summary writer in eager mode or in graph functions, but\u001b[0m\u001b[0;34m\u001b[0m\u001b[0;34m\u001b[0m\u001b[0;34m\u001b[0m\u001b[0m\n\u001b[0;32m--> 256\u001b[0;31m       \u001b[0;31m# not in legacy graph mode (you're on your own there).\u001b[0m\u001b[0;34m\u001b[0m\u001b[0;34m\u001b[0m\u001b[0;34m\u001b[0m\u001b[0m\n\u001b[0m\u001b[1;32m    257\u001b[0m       \u001b[0mself\u001b[0m\u001b[0;34m.\u001b[0m\u001b[0mflush\u001b[0m\u001b[0;34m(\u001b[0m\u001b[0;34m)\u001b[0m\u001b[0;34m\u001b[0m\u001b[0;34m\u001b[0m\u001b[0m\n\u001b[1;32m    258\u001b[0m     \u001b[0;32mfinally\u001b[0m\u001b[0;34m:\u001b[0m\u001b[0;34m\u001b[0m\u001b[0;34m\u001b[0m\u001b[0m\n",
      "\u001b[0;32m/app/env/lib/python3.6/site-packages/tensorflow_core/python/ops/summary_ops_v2.py\u001b[0m in \u001b[0;36mflush\u001b[0;34m(writer, name)\u001b[0m\n\u001b[1;32m    930\u001b[0m \u001b[0;32mdef\u001b[0m \u001b[0mflush\u001b[0m\u001b[0;34m(\u001b[0m\u001b[0mwriter\u001b[0m\u001b[0;34m=\u001b[0m\u001b[0;32mNone\u001b[0m\u001b[0;34m,\u001b[0m \u001b[0mname\u001b[0m\u001b[0;34m=\u001b[0m\u001b[0;32mNone\u001b[0m\u001b[0;34m)\u001b[0m\u001b[0;34m:\u001b[0m\u001b[0;34m\u001b[0m\u001b[0;34m\u001b[0m\u001b[0m\n\u001b[1;32m    931\u001b[0m   \"\"\"Forces summary writer to send any buffered data to storage.\n\u001b[0;32m--> 932\u001b[0;31m \u001b[0;34m\u001b[0m\u001b[0m\n\u001b[0m\u001b[1;32m    933\u001b[0m   \u001b[0mThis\u001b[0m \u001b[0moperation\u001b[0m \u001b[0mblocks\u001b[0m \u001b[0muntil\u001b[0m \u001b[0mthat\u001b[0m \u001b[0mfinishes\u001b[0m\u001b[0;34m.\u001b[0m\u001b[0;34m\u001b[0m\u001b[0;34m\u001b[0m\u001b[0m\n\u001b[1;32m    934\u001b[0m \u001b[0;34m\u001b[0m\u001b[0m\n",
      "\u001b[0;32m/app/env/lib/python3.6/site-packages/tensorflow_core/python/ops/gen_summary_ops.py\u001b[0m in \u001b[0;36mflush_summary_writer\u001b[0;34m(writer, name)\u001b[0m\n\u001b[1;32m    242\u001b[0m       \u001b[0;32mtry\u001b[0m\u001b[0;34m:\u001b[0m\u001b[0;34m\u001b[0m\u001b[0;34m\u001b[0m\u001b[0m\n\u001b[1;32m    243\u001b[0m         return import_event_eager_fallback(\n\u001b[0;32m--> 244\u001b[0;31m             writer, event, name=name, ctx=_ctx)\n\u001b[0m\u001b[1;32m    245\u001b[0m       \u001b[0;32mexcept\u001b[0m \u001b[0m_core\u001b[0m\u001b[0;34m.\u001b[0m\u001b[0m_SymbolicException\u001b[0m\u001b[0;34m:\u001b[0m\u001b[0;34m\u001b[0m\u001b[0;34m\u001b[0m\u001b[0m\n\u001b[1;32m    246\u001b[0m         \u001b[0;32mpass\u001b[0m  \u001b[0;31m# Add nodes to the TensorFlow graph.\u001b[0m\u001b[0;34m\u001b[0m\u001b[0;34m\u001b[0m\u001b[0m\n",
      "\u001b[0;31mKeyboardInterrupt\u001b[0m: "
     ]
    }
   ],
   "source": [
    "# Overfit on a small batch\n",
    "\n",
    "# Include both positive and negative instances    \n",
    "x_train_small = np.concatenate([x_train[:5], x_train[-5:]])\n",
    "y_train_small = np.concatenate([y_train[:5], y_train[-5:]])\n",
    "\n",
    "model = basic_cnn_model((120, 120, 3), n_classes)\n",
    "history, y_actual, y_pred, y_pred_probs = train_keras_model(\n",
    "    x_train=x_train_small, y_train=y_train_small, x_valid=None, y_valid=None, image_augmentations=None,\n",
    "    bucket=bucket, model_dir=model_dir, gcs_model_dir=gcs_model_dir, gcs_log_dir=gcs_log_dir, \n",
    "    experiment_name=experiment_name, start_model=model, should_train_from_scratch=True, lr=1e-4,\n",
    "    should_upload_to_gcs=False,\n",
    "    n_epochs=30, early_stopping_patience=10, metric_to_monitor='loss')\n",
    "pd.DataFrame(y_pred_probs).hist()"
   ]
  },
  {
   "cell_type": "code",
   "execution_count": 71,
   "metadata": {},
   "outputs": [
    {
     "data": {
      "text/plain": [
       "<matplotlib.axes._subplots.AxesSubplot at 0x7f4060253c18>"
      ]
     },
     "execution_count": 71,
     "metadata": {},
     "output_type": "execute_result"
    },
    {
     "data": {
      "image/png": "[encoded data removed]",
      "text/plain": [
       "<Figure size 864x288 with 1 Axes>"
      ]
     },
     "metadata": {
      "needs_background": "light"
     },
     "output_type": "display_data"
    }
   ],
   "source": [
    "# Check relationship between predicted and actual values\n",
    "preds = pd.concat([\n",
    "    pd.DataFrame({'idx': range(len(y_actual)), 'class': y_actual, 'data': ['actual' for _ in range(len(y_actual))]}),\n",
    "    pd.DataFrame({'idx': range(len(y_actual)), 'class': y_pred, 'data': ['pred' for _ in range(len(y_actual))]})\n",
    "])\n",
    "\n",
    "f, ax = plt.subplots(1, 1, figsize=(12, 4))\n",
    "sns.scatterplot(x=preds['idx'], y=preds['class'], hue=preds['data'], ax=ax, style=preds['data'], \n",
    "                markers={'actual': 'o', 'pred': 'X'})"
   ]
  },
  {
   "cell_type": "code",
   "execution_count": 74,
   "metadata": {
    "scrolled": true
   },
   "outputs": [
    {
     "name": "stdout",
     "output_type": "stream",
     "text": [
      "Downloading model blob.\n",
      "len(train): 1907\n",
      "len(valid): 253\n",
      "Epoch 1/200\n",
      "      1/Unknown - 1s 583ms/step - loss: 0.7405 - accuracy: 0.5938WARNING:tensorflow:Method (on_train_batch_end) is slow compared to the batch update (0.871307). Check your callbacks.\n",
      "15/15 [==============================] - 7s 458ms/step - loss: 1.0987 - accuracy: 0.5343\n",
      "Epoch 2/200\n",
      "15/15 [==============================] - 5s 344ms/step - loss: 0.7105 - accuracy: 0.5391\n",
      "Epoch 3/200\n",
      "15/15 [==============================] - 5s 341ms/step - loss: 0.6194 - accuracy: 0.6586\n",
      "Epoch 4/200\n",
      "15/15 [==============================] - 5s 338ms/step - loss: 0.5579 - accuracy: 0.7158\n",
      "Epoch 5/200\n",
      "15/15 [==============================] - 5s 339ms/step - loss: 0.4938 - accuracy: 0.7777\n",
      "Epoch 6/200\n",
      "15/15 [==============================] - 5s 341ms/step - loss: 0.4405 - accuracy: 0.8112\n",
      "Epoch 7/200\n",
      "15/15 [==============================] - 5s 361ms/step - loss: 0.4086 - accuracy: 0.8411\n",
      "Epoch 8/200\n",
      "15/15 [==============================] - 5s 334ms/step - loss: 0.3788 - accuracy: 0.8311\n",
      "Epoch 9/200\n",
      "15/15 [==============================] - 5s 345ms/step - loss: 0.3490 - accuracy: 0.8610\n",
      "Epoch 10/200\n",
      "15/15 [==============================] - 5s 344ms/step - loss: 0.3286 - accuracy: 0.8668\n",
      "Epoch 11/200\n",
      "15/15 [==============================] - 5s 338ms/step - loss: 0.3131 - accuracy: 0.8600\n",
      "Epoch 12/200\n",
      "15/15 [==============================] - 5s 339ms/step - loss: 0.3174 - accuracy: 0.8747\n",
      "Epoch 13/200\n",
      "15/15 [==============================] - 5s 337ms/step - loss: 0.3164 - accuracy: 0.8579\n",
      "Epoch 14/200\n",
      "15/15 [==============================] - 5s 338ms/step - loss: 0.3020 - accuracy: 0.8852\n",
      "Epoch 15/200\n",
      "15/15 [==============================] - 5s 338ms/step - loss: 0.2707 - accuracy: 0.8967\n",
      "Epoch 16/200\n",
      "15/15 [==============================] - 5s 336ms/step - loss: 0.2584 - accuracy: 0.8930\n",
      "Epoch 17/200\n",
      "15/15 [==============================] - 5s 332ms/step - loss: 0.2424 - accuracy: 0.9056\n",
      "Epoch 18/200\n",
      "15/15 [==============================] - 5s 349ms/step - loss: 0.2391 - accuracy: 0.8941\n",
      "Epoch 19/200\n",
      "15/15 [==============================] - 5s 333ms/step - loss: 0.2240 - accuracy: 0.9067\n",
      "Epoch 20/200\n",
      "15/15 [==============================] - 5s 337ms/step - loss: 0.2274 - accuracy: 0.9082\n",
      "Epoch 21/200\n",
      "15/15 [==============================] - 5s 333ms/step - loss: 0.2214 - accuracy: 0.9082\n",
      "Epoch 22/200\n",
      "15/15 [==============================] - 5s 334ms/step - loss: 0.2091 - accuracy: 0.9130\n",
      "Epoch 23/200\n",
      "15/15 [==============================] - 5s 335ms/step - loss: 0.1913 - accuracy: 0.9271\n",
      "Epoch 24/200\n",
      "15/15 [==============================] - 5s 333ms/step - loss: 0.2041 - accuracy: 0.9187\n",
      "Epoch 25/200\n",
      "15/15 [==============================] - 5s 331ms/step - loss: 0.2071 - accuracy: 0.9177\n",
      "Epoch 26/200\n",
      "15/15 [==============================] - 5s 338ms/step - loss: 0.2063 - accuracy: 0.9177\n",
      "Epoch 27/200\n",
      "15/15 [==============================] - 5s 337ms/step - loss: 0.2272 - accuracy: 0.9124\n",
      "Epoch 28/200\n",
      "15/15 [==============================] - 5s 348ms/step - loss: 0.2280 - accuracy: 0.9198\n",
      "Epoch 29/200\n",
      "15/15 [==============================] - 5s 333ms/step - loss: 0.1826 - accuracy: 0.9282\n",
      "Epoch 30/200\n",
      "15/15 [==============================] - 5s 332ms/step - loss: 0.1654 - accuracy: 0.9418\n",
      "Epoch 31/200\n",
      "15/15 [==============================] - 5s 335ms/step - loss: 0.1544 - accuracy: 0.9476\n",
      "Epoch 32/200\n",
      "15/15 [==============================] - 5s 345ms/step - loss: 0.1592 - accuracy: 0.9376\n",
      "Epoch 33/200\n",
      "15/15 [==============================] - 5s 333ms/step - loss: 0.1511 - accuracy: 0.9428\n",
      "Epoch 34/200\n",
      "15/15 [==============================] - 5s 331ms/step - loss: 0.1479 - accuracy: 0.9554\n",
      "Epoch 35/200\n",
      "15/15 [==============================] - 5s 340ms/step - loss: 0.1439 - accuracy: 0.9465\n",
      "Epoch 36/200\n",
      "15/15 [==============================] - 5s 338ms/step - loss: 0.1330 - accuracy: 0.9586\n",
      "Epoch 37/200\n",
      "15/15 [==============================] - 5s 331ms/step - loss: 0.1620 - accuracy: 0.9329\n",
      "Epoch 38/200\n",
      "15/15 [==============================] - 5s 336ms/step - loss: 0.1659 - accuracy: 0.9355\n",
      "Epoch 39/200\n",
      "15/15 [==============================] - 5s 334ms/step - loss: 0.1368 - accuracy: 0.9528\n",
      "Epoch 40/200\n",
      "15/15 [==============================] - 5s 341ms/step - loss: 0.1322 - accuracy: 0.9507\n",
      "Epoch 41/200\n",
      "15/15 [==============================] - 5s 335ms/step - loss: 0.1249 - accuracy: 0.9565\n",
      "Epoch 42/200\n",
      "15/15 [==============================] - 5s 340ms/step - loss: 0.1307 - accuracy: 0.9460\n",
      "Epoch 43/200\n",
      "15/15 [==============================] - 5s 359ms/step - loss: 0.1280 - accuracy: 0.9575\n",
      "Epoch 44/200\n",
      "15/15 [==============================] - 5s 360ms/step - loss: 0.1718 - accuracy: 0.9261\n",
      "Epoch 45/200\n",
      "15/15 [==============================] - 5s 336ms/step - loss: 0.1421 - accuracy: 0.9544\n",
      "Epoch 46/200\n",
      "15/15 [==============================] - 6s 383ms/step - loss: 0.1300 - accuracy: 0.9481\n"
     ]
    },
    {
     "data": {
      "text/plain": [
       "array([[<matplotlib.axes._subplots.AxesSubplot object at 0x7f4059669c88>]],\n",
       "      dtype=object)"
      ]
     },
     "execution_count": 74,
     "metadata": {},
     "output_type": "execute_result"
    },
    {
     "data": {
      "image/png": "[encoded data removed]",
      "text/plain": [
       "<Figure size 432x288 with 1 Axes>"
      ]
     },
     "metadata": {
      "needs_background": "light"
     },
     "output_type": "display_data"
    }
   ],
   "source": [
    "# Overfit on all training data\n",
    "model = basic_cnn_model((120, 120, 3), n_classes)\n",
    "experiment_name = f\"{project_name}_basic_cnn_2020_1_31\"\n",
    "history, y_actual, y_pred, y_pred_probs = train_keras_model(\n",
    "    x_train=x_train, y_train=y_train, x_valid=None, y_valid=None, image_augmentations=None,\n",
    "    bucket=bucket, model_dir=model_dir, gcs_model_dir=gcs_model_dir, gcs_log_dir=gcs_log_dir, \n",
    "    experiment_name=experiment_name, start_model=model, should_train_from_scratch=True, lr=3e-4,\n",
    "    should_upload_to_gcs=False,\n",
    "    n_epochs=200, early_stopping_patience=10)\n",
    "pd.DataFrame(y_pred_probs).hist()"
   ]
  },
  {
   "cell_type": "code",
   "execution_count": 93,
   "metadata": {},
   "outputs": [
    {
     "name": "stdout",
     "output_type": "stream",
     "text": [
      "val_loss 0.6236074\n",
      "val_accuracy 0.8814229249011858\n"
     ]
    }
   ],
   "source": [
    "valid_generator = get_image_dataset(x=x_valid, y=y_valid, augmentations=None, band_stats=stats, \n",
    "                                                  batch_size=batch_size)\n",
    "actual_y_valid, pred_y_valid, pred_y_valid_probs = get_predictions_for_dataset(valid_generator, model) \n",
    "print('val_loss', binary_crossentropy(actual_y_valid, pred_y_valid_probs).numpy())\n",
    "print('val_accuracy', accuracy_score(actual_y_valid, pred_y_valid))"
   ]
  },
  {
   "cell_type": "code",
   "execution_count": 252,
   "metadata": {
    "scrolled": true
   },
   "outputs": [
    {
     "name": "stdout",
     "output_type": "stream",
     "text": [
      "Downloading model blob.\n",
      "len(train): 1907\n",
      "len(valid): 253\n",
      "WARNING:tensorflow:`period` argument is deprecated. Please use `save_freq` to specify the frequency in number of samples seen.\n",
      "Epoch 1/100\n",
      "      1/Unknown - 1s 664ms/step - loss: 0.9860 - accuracy: 0.4609WARNING:tensorflow:Method (on_train_batch_end) is slow compared to the batch update (0.859568). Check your callbacks.\n",
      "15/15 [==============================] - 11s 705ms/step - loss: 0.6831 - accuracy: 0.7221 - val_loss: 0.0000e+00 - val_accuracy: 0.0000e+00\n",
      "Epoch 2/100\n",
      "15/15 [==============================] - 8s 550ms/step - loss: 0.3816 - accuracy: 0.8511 - val_loss: 1.4853 - val_accuracy: 0.4862\n",
      "Epoch 3/100\n",
      "15/15 [==============================] - 8s 529ms/step - loss: 0.2954 - accuracy: 0.8820 - val_loss: 1.1966 - val_accuracy: 0.4901\n",
      "Epoch 4/100\n",
      "15/15 [==============================] - 8s 538ms/step - loss: 0.2492 - accuracy: 0.9025 - val_loss: 0.7682 - val_accuracy: 0.5138\n",
      "Epoch 5/100\n",
      "15/15 [==============================] - 8s 546ms/step - loss: 0.2245 - accuracy: 0.9245 - val_loss: 0.6368 - val_accuracy: 0.6443\n",
      "Epoch 6/100\n",
      "15/15 [==============================] - 8s 530ms/step - loss: 0.1795 - accuracy: 0.9512 - val_loss: 0.5873 - val_accuracy: 0.7075\n",
      "Epoch 7/100\n",
      "15/15 [==============================] - 8s 557ms/step - loss: 0.1493 - accuracy: 0.9518 - val_loss: 0.5617 - val_accuracy: 0.7233\n",
      "Epoch 8/100\n",
      "15/15 [==============================] - 8s 539ms/step - loss: 0.1052 - accuracy: 0.9738 - val_loss: 0.5984 - val_accuracy: 0.7312\n",
      "Epoch 9/100\n",
      "15/15 [==============================] - 7s 469ms/step - loss: 0.0948 - accuracy: 0.9717 - val_loss: 0.6059 - val_accuracy: 0.6759\n",
      "Epoch 10/100\n",
      "15/15 [==============================] - 7s 468ms/step - loss: 0.1209 - accuracy: 0.9664 - val_loss: 0.5680 - val_accuracy: 0.6957\n",
      "Epoch 11/100\n",
      "15/15 [==============================] - 7s 498ms/step - loss: 0.1307 - accuracy: 0.9617 - val_loss: 0.5341 - val_accuracy: 0.7154\n",
      "Epoch 12/100\n",
      "15/15 [==============================] - 8s 560ms/step - loss: 0.0930 - accuracy: 0.9722 - val_loss: 0.5236 - val_accuracy: 0.7787\n",
      "Epoch 13/100\n",
      "15/15 [==============================] - 7s 467ms/step - loss: 0.0665 - accuracy: 0.9790 - val_loss: 0.5040 - val_accuracy: 0.7708\n",
      "Epoch 14/100\n",
      "15/15 [==============================] - 7s 469ms/step - loss: 0.0631 - accuracy: 0.9769 - val_loss: 0.4885 - val_accuracy: 0.7708\n",
      "Epoch 15/100\n",
      "15/15 [==============================] - 7s 466ms/step - loss: 0.0715 - accuracy: 0.9780 - val_loss: 0.8270 - val_accuracy: 0.5613\n",
      "Epoch 16/100\n",
      "15/15 [==============================] - 7s 462ms/step - loss: 0.0656 - accuracy: 0.9785 - val_loss: 0.5199 - val_accuracy: 0.7510\n",
      "Epoch 17/100\n",
      "15/15 [==============================] - 8s 521ms/step - loss: 0.0722 - accuracy: 0.9795 - val_loss: 0.4696 - val_accuracy: 0.7984\n",
      "Epoch 18/100\n",
      "15/15 [==============================] - 8s 549ms/step - loss: 0.0563 - accuracy: 0.9816 - val_loss: 0.4225 - val_accuracy: 0.8221\n",
      "Epoch 19/100\n",
      "15/15 [==============================] - 8s 531ms/step - loss: 0.0527 - accuracy: 0.9827 - val_loss: 0.4727 - val_accuracy: 0.7549\n",
      "Epoch 20/100\n",
      "15/15 [==============================] - 7s 457ms/step - loss: 0.0437 - accuracy: 0.9837 - val_loss: 0.4635 - val_accuracy: 0.7747\n",
      "Epoch 21/100\n",
      "15/15 [==============================] - 7s 466ms/step - loss: 0.0585 - accuracy: 0.9832 - val_loss: 0.4688 - val_accuracy: 0.7628\n",
      "Epoch 22/100\n",
      "15/15 [==============================] - 7s 466ms/step - loss: 0.0346 - accuracy: 0.9900 - val_loss: 0.4195 - val_accuracy: 0.8142\n",
      "Epoch 23/100\n",
      "15/15 [==============================] - 7s 493ms/step - loss: 0.0359 - accuracy: 0.9890 - val_loss: 0.4400 - val_accuracy: 0.7905\n",
      "Epoch 24/100\n",
      "15/15 [==============================] - 7s 464ms/step - loss: 0.0406 - accuracy: 0.9864 - val_loss: 0.4334 - val_accuracy: 0.8221\n",
      "Epoch 25/100\n",
      "15/15 [==============================] - 7s 471ms/step - loss: 0.0359 - accuracy: 0.9895 - val_loss: 0.7062 - val_accuracy: 0.6996\n",
      "Epoch 26/100\n",
      "15/15 [==============================] - 7s 478ms/step - loss: 0.0346 - accuracy: 0.9932 - val_loss: 0.5118 - val_accuracy: 0.7984\n",
      "Epoch 27/100\n",
      "15/15 [==============================] - 7s 471ms/step - loss: 0.0231 - accuracy: 0.9948 - val_loss: 0.4557 - val_accuracy: 0.7984\n",
      "Epoch 28/100\n",
      "15/15 [==============================] - 7s 480ms/step - loss: 0.0263 - accuracy: 0.9927 - val_loss: 0.5162 - val_accuracy: 0.8182\n",
      "Epoch 29/100\n",
      "15/15 [==============================] - 8s 551ms/step - loss: 0.0180 - accuracy: 0.9953 - val_loss: 0.4997 - val_accuracy: 0.8182\n",
      "Epoch 30/100\n",
      "15/15 [==============================] - 7s 467ms/step - loss: 0.0263 - accuracy: 0.9916 - val_loss: 0.5101 - val_accuracy: 0.7866\n",
      "Epoch 31/100\n",
      "15/15 [==============================] - 7s 467ms/step - loss: 0.0247 - accuracy: 0.9906 - val_loss: 0.5110 - val_accuracy: 0.7945\n",
      "Epoch 32/100\n",
      "15/15 [==============================] - 8s 526ms/step - loss: 0.0258 - accuracy: 0.9921 - val_loss: 0.5104 - val_accuracy: 0.8340\n",
      "Epoch 33/100\n",
      "15/15 [==============================] - 7s 475ms/step - loss: 0.0233 - accuracy: 0.9932 - val_loss: 0.5741 - val_accuracy: 0.8182\n",
      "Epoch 34/100\n",
      "15/15 [==============================] - 7s 467ms/step - loss: 0.0238 - accuracy: 0.9921 - val_loss: 0.5408 - val_accuracy: 0.8182\n",
      "Epoch 35/100\n",
      "15/15 [==============================] - 7s 484ms/step - loss: 0.0335 - accuracy: 0.9885 - val_loss: 0.5790 - val_accuracy: 0.7826\n",
      "Epoch 36/100\n",
      "15/15 [==============================] - 7s 484ms/step - loss: 0.0226 - accuracy: 0.9932 - val_loss: 0.5809 - val_accuracy: 0.7945\n",
      "Epoch 37/100\n",
      "15/15 [==============================] - 7s 467ms/step - loss: 0.0127 - accuracy: 0.9974 - val_loss: 0.5660 - val_accuracy: 0.8221\n",
      "Epoch 38/100\n",
      "15/15 [==============================] - 7s 482ms/step - loss: 0.0169 - accuracy: 0.9953 - val_loss: 0.5875 - val_accuracy: 0.7708\n",
      "Epoch 39/100\n",
      "15/15 [==============================] - 7s 467ms/step - loss: 0.0153 - accuracy: 0.9958 - val_loss: 0.6226 - val_accuracy: 0.8142\n",
      "Epoch 40/100\n",
      "15/15 [==============================] - 7s 488ms/step - loss: 0.0137 - accuracy: 0.9974 - val_loss: 0.6752 - val_accuracy: 0.7945\n",
      "Epoch 41/100\n",
      "15/15 [==============================] - 7s 473ms/step - loss: 0.0224 - accuracy: 0.9927 - val_loss: 0.5976 - val_accuracy: 0.7708\n",
      "Epoch 42/100\n",
      "15/15 [==============================] - 7s 469ms/step - loss: 0.0164 - accuracy: 0.9974 - val_loss: 0.5901 - val_accuracy: 0.7984\n",
      "Epoch 43/100\n",
      "15/15 [==============================] - 8s 504ms/step - loss: 0.0186 - accuracy: 0.9937 - val_loss: 0.5769 - val_accuracy: 0.8103\n",
      "Epoch 44/100\n",
      "15/15 [==============================] - 7s 476ms/step - loss: 0.0199 - accuracy: 0.9953 - val_loss: 0.5713 - val_accuracy: 0.7668\n",
      "Epoch 45/100\n",
      "15/15 [==============================] - 7s 470ms/step - loss: 0.0120 - accuracy: 0.9969 - val_loss: 0.5506 - val_accuracy: 0.8063\n",
      "Epoch 46/100\n",
      "15/15 [==============================] - 7s 472ms/step - loss: 0.0079 - accuracy: 0.9990 - val_loss: 0.5336 - val_accuracy: 0.8103\n",
      "Epoch 47/100\n",
      "15/15 [==============================] - 7s 471ms/step - loss: 0.0204 - accuracy: 0.9932 - val_loss: 0.5773 - val_accuracy: 0.8024\n",
      "Epoch 48/100\n",
      "15/15 [==============================] - 7s 483ms/step - loss: 0.0335 - accuracy: 0.9890 - val_loss: 0.7020 - val_accuracy: 0.7787\n",
      "Epoch 49/100\n",
      "15/15 [==============================] - 7s 463ms/step - loss: 0.0332 - accuracy: 0.9906 - val_loss: 3.6524 - val_accuracy: 0.5929\n",
      "Epoch 50/100\n",
      "15/15 [==============================] - 7s 466ms/step - loss: 0.0357 - accuracy: 0.9895 - val_loss: 0.9617 - val_accuracy: 0.6877\n",
      "Epoch 51/100\n",
      "15/15 [==============================] - 7s 470ms/step - loss: 0.0250 - accuracy: 0.9958 - val_loss: 1.0637 - val_accuracy: 0.6877\n",
      "Epoch 52/100\n",
      "15/15 [==============================] - 7s 469ms/step - loss: 0.0150 - accuracy: 0.9953 - val_loss: 0.4943 - val_accuracy: 0.8221\n",
      "Epoch 53/100\n",
      "15/15 [==============================] - 7s 463ms/step - loss: 0.0203 - accuracy: 0.9948 - val_loss: 0.5770 - val_accuracy: 0.8182\n",
      "Epoch 54/100\n",
      "15/15 [==============================] - 7s 465ms/step - loss: 0.0105 - accuracy: 0.9979 - val_loss: 0.4906 - val_accuracy: 0.8261\n",
      "Epoch 55/100\n",
      "15/15 [==============================] - 7s 477ms/step - loss: 0.0100 - accuracy: 0.9969 - val_loss: 0.6683 - val_accuracy: 0.8182\n",
      "Epoch 56/100\n",
      "15/15 [==============================] - 7s 461ms/step - loss: 0.0074 - accuracy: 0.9984 - val_loss: 0.5808 - val_accuracy: 0.8182\n",
      "Epoch 57/100\n",
      "15/15 [==============================] - 7s 468ms/step - loss: 0.0088 - accuracy: 0.9984 - val_loss: 0.6531 - val_accuracy: 0.7866\n",
      "Epoch 58/100\n",
      "15/15 [==============================] - 7s 472ms/step - loss: 0.0114 - accuracy: 0.9958 - val_loss: 0.7140 - val_accuracy: 0.7470\n",
      "Epoch 59/100\n",
      "15/15 [==============================] - 7s 468ms/step - loss: 0.0045 - accuracy: 1.0000 - val_loss: 0.5536 - val_accuracy: 0.7945\n",
      "Epoch 60/100\n",
      "15/15 [==============================] - 7s 463ms/step - loss: 0.0027 - accuracy: 1.0000 - val_loss: 0.5045 - val_accuracy: 0.8182\n",
      "Epoch 61/100\n",
      "15/15 [==============================] - 7s 464ms/step - loss: 0.0028 - accuracy: 1.0000 - val_loss: 0.5591 - val_accuracy: 0.8182\n",
      "Epoch 62/100\n",
      "15/15 [==============================] - 7s 467ms/step - loss: 0.0062 - accuracy: 0.9990 - val_loss: 0.5425 - val_accuracy: 0.8063\n"
     ]
    },
    {
     "data": {
      "text/plain": [
       "array([[<matplotlib.axes._subplots.AxesSubplot object at 0x7f3ba1473048>]],\n",
       "      dtype=object)"
      ]
     },
     "execution_count": 252,
     "metadata": {},
     "output_type": "execute_result"
    },
    {
     "data": {
      "image/png": "[encoded data removed]",
      "text/plain": [
       "<Figure size 432x288 with 1 Axes>"
      ]
     },
     "metadata": {
      "needs_background": "light"
     },
     "output_type": "display_data"
    }
   ],
   "source": [
    "# Start basic_cnn_model_with_regularization by adding batch normalization and validation set \n",
    "model = basic_cnn_model_with_regularization((120, 120, 3), n_classes)\n",
    "experiment_name = f\"{project_name}_basic_cnn_with_regularization_2020_1_31\"\n",
    "history, y_actual, y_pred, y_pred_probs = train_keras_model(\n",
    "    x_train=x_train, y_train=y_train, x_valid=x_valid, y_valid=y_valid, image_augmentations=None,\n",
    "    bucket=bucket, model_dir=model_dir, gcs_model_dir=gcs_model_dir, gcs_log_dir=gcs_log_dir, \n",
    "    experiment_name=experiment_name, start_model=model, should_train_from_scratch=True, lr=3e-4,\n",
    "    should_upload_to_gcs=True,\n",
    "    n_epochs=100, early_stopping_patience=30)\n",
    "pd.DataFrame(y_pred_probs).hist()"
   ]
  },
  {
   "cell_type": "code",
   "execution_count": 254,
   "metadata": {},
   "outputs": [
    {
     "data": {
      "image/png": "[encoded data removed]",
      "text/plain": [
       "<Figure size 864x288 with 2 Axes>"
      ]
     },
     "metadata": {
      "needs_background": "light"
     },
     "output_type": "display_data"
    }
   ],
   "source": [
    "graph_model_history(history.history)"
   ]
  },
  {
   "cell_type": "code",
   "execution_count": 212,
   "metadata": {},
   "outputs": [],
   "source": [
    "augmentations_train = Compose([\n",
    "    Flip(p=0.5),\n",
    "    Rotate(limit=(0, 360), p=0.5),\n",
    "])"
   ]
  },
  {
   "cell_type": "code",
   "execution_count": 218,
   "metadata": {},
   "outputs": [
    {
     "name": "stdout",
     "output_type": "stream",
     "text": [
      "(128, 120, 120, 3) [-0.40659964 -0.49913651 -0.45767791] (128, 1) [1]\n",
      "0.027591167818225883 1.0636115827563706 -0.6573675908079566 8.942850332525591\n",
      "0.04680030539431623 1.02632356859598 -0.6579388221636933 6.005213286171044\n",
      "0.13599491041413556 1.1543325794180535 -0.6573675908079566 9.34567442851301\n",
      "-0.0003182379773971013 1.0192809968907472 -0.6573675908079566 7.556368073331842\n",
      "-0.05500515870664811 0.9123794748910226 -0.6573675908079566 7.843233498797221\n",
      "\n",
      "\n",
      "Image dataset finished 15 batches with 1907 elements in 3.298898696899414\n",
      "\n",
      "\n",
      "binary_crossentropy - random numbers 1.065257351339798\n",
      "binary_crossentropy - cnn with initial weights - actual data 0.8630689\n"
     ]
    },
    {
     "data": {
      "text/plain": [
       "array([[<matplotlib.axes._subplots.AxesSubplot object at 0x7f40500aa518>]],\n",
       "      dtype=object)"
      ]
     },
     "execution_count": 218,
     "metadata": {},
     "output_type": "execute_result"
    },
    {
     "data": {
      "image/png": "[encoded data removed]",
      "text/plain": [
       "<Figure size 432x288 with 1 Axes>"
      ]
     },
     "metadata": {
      "needs_background": "light"
     },
     "output_type": "display_data"
    }
   ],
   "source": [
    "train_dataset = get_image_dataset(x_train, y_train, augmentations=augmentations_train, band_stats=stats, batch_size=128)\n",
    "\n",
    "num_outputs = 0\n",
    "train_iter = train_dataset.make_one_shot_iterator()\n",
    "imgs, labels = train_iter.get_next()\n",
    "print(imgs.shape, imgs.numpy()[0][0][0], labels.shape, labels.numpy()[0])\n",
    "\n",
    "for batch_x, batch_y in train_dataset.make_one_shot_iterator():\n",
    "    batch_x = batch_x.numpy() \n",
    "    print(batch_x.mean(), batch_x.std(), batch_x.min(), batch_x.max())\n",
    "    num_outputs += 1\n",
    "    if num_outputs > 4:\n",
    "        break\n",
    "start = time.time()\n",
    "num_batches = 0\n",
    "num_els = 0\n",
    "train_dataset = get_image_dataset(x_train, y_train, augmentations=augmentations_train, band_stats=stats, batch_size=batch_size)\n",
    "for x, y in train_dataset.make_one_shot_iterator():\n",
    "    num_batches += 1\n",
    "    num_els += len(x)    \n",
    "    continue\n",
    "print('\\n')\n",
    "print(f'Image dataset finished {num_batches} batches with {num_els} elements in {time.time() - start}')         \n",
    "\n",
    "from tensorflow.keras.losses import binary_crossentropy\n",
    "model = basic_cnn_model((120, 120, 3), n_classes)\n",
    "y_actual, y_pred, y_pred_probs = get_predictions_for_dataset(train_dataset, model)\n",
    "\n",
    "print('\\n')\n",
    "print('binary_crossentropy - random numbers', \n",
    "      binary_crossentropy(np.random.randint(2, size=128), np.random.random_sample(128)).numpy())\n",
    "print('binary_crossentropy - cnn with initial weights - actual data', \n",
    "      binary_crossentropy(y_actual, y_pred_probs).numpy())\n",
    "\n",
    "pd.DataFrame(y_pred_probs).hist()"
   ]
  },
  {
   "cell_type": "code",
   "execution_count": 309,
   "metadata": {
    "scrolled": false
   },
   "outputs": [
    {
     "name": "stdout",
     "output_type": "stream",
     "text": [
      "Downloading model blob.\n",
      "Resuming training at epoch 41\n",
      "len(train): 1907\n",
      "len(valid): 253\n",
      "WARNING:tensorflow:`period` argument is deprecated. Please use `save_freq` to specify the frequency in number of samples seen.\n"
     ]
    },
    {
     "data": {
      "text/plain": [
       "array([[<matplotlib.axes._subplots.AxesSubplot object at 0x7f3bb3936ba8>]],\n",
       "      dtype=object)"
      ]
     },
     "execution_count": 309,
     "metadata": {},
     "output_type": "execute_result"
    },
    {
     "data": {
      "image/png": "[encoded data removed]",
      "text/plain": [
       "<Figure size 432x288 with 1 Axes>"
      ]
     },
     "metadata": {
      "needs_background": "light"
     },
     "output_type": "display_data"
    }
   ],
   "source": [
    "# Add image augmentation\n",
    "model = basic_cnn_model_with_regularization((120, 120, 3), n_classes)\n",
    "experiment_name = f\"{project_name}_basic_cnn_with_regularization_and_aug_2020_1_31\"\n",
    "\n",
    "model, history, y_actual, y_pred, y_pred_probs = train_keras_model(\n",
    "    x_train=x_train, y_train=y_train, x_valid=x_valid, y_valid=y_valid, image_augmentations=augmentations_train,\n",
    "    bucket=bucket, model_dir=model_dir, gcs_model_dir=gcs_model_dir, gcs_log_dir=gcs_log_dir, \n",
    "    experiment_name=experiment_name, start_model=model, should_train_from_scratch=False, lr=3e-4,\n",
    "    should_upload_to_gcs=True,\n",
    "    n_epochs=2, early_stopping_patience=1)\n",
    "pd.DataFrame(y_pred_probs).hist()"
   ]
  },
  {
   "cell_type": "code",
   "execution_count": 225,
   "metadata": {
    "scrolled": false
   },
   "outputs": [
    {
     "data": {
      "image/png": "[encoded data removed]",
      "text/plain": [
       "<Figure size 864x288 with 2 Axes>"
      ]
     },
     "metadata": {
      "needs_background": "light"
     },
     "output_type": "display_data"
    }
   ],
   "source": [
    "graph_model_history(history.history)"
   ]
  },
  {
   "cell_type": "code",
   "execution_count": null,
   "metadata": {},
   "outputs": [],
   "source": [
    "# Hyperparameter optimization \n",
    "\n",
    "model = basic_cnn_model_with_regularization((120, 120, 3), n_classes)\n",
    "experiment_name = f\"{project_name}_basic_cnn_with_regularization_and_aug_2020_1_31\"\n",
    "\n",
    "model, history, y_actual, y_pred, y_pred_probs = train_keras_model(\n",
    "    x_train=x_train, y_train=y_train, x_valid=x_valid, y_valid=y_valid, image_augmentations=augmentations_train,\n",
    "    bucket=bucket, model_dir=model_dir, gcs_model_dir=gcs_model_dir, gcs_log_dir=gcs_log_dir, \n",
    "    experiment_name=experiment_name, start_model=model, should_train_from_scratch=False, lr=3e-4,\n",
    "    should_upload_to_gcs=True,\n",
    "    n_epochs=2, early_stopping_patience=1)\n",
    "pd.DataFrame(y_pred_probs).hist()"
   ]
  },
  {
   "cell_type": "code",
   "execution_count": 233,
   "metadata": {},
   "outputs": [],
   "source": [
    "arr = np.load(npy_files[0])\n",
    "r = json.dumps({'img': arr.tolist()})\n",
    "arr_2 = np.array(json.loads(r)['img']).reshape(120, 120, 3).astype(np.int16)\n",
    "(arr == arr_2).all()"
   ]
  },
  {
   "cell_type": "code",
   "execution_count": 200,
   "metadata": {},
   "outputs": [],
   "source": [
    "precision = precision[:-1]\n",
    "recall = recall[:-1]\n",
    "df = pd.concat([\n",
    "    pd.DataFrame({'stat_name': ['precision' for _ in range(len(precision))],\n",
    "                  'stat_value': precision,\n",
    "                  'threshold': thresholds}),\n",
    "    pd.DataFrame({'stat_name': ['recall' for _ in range(len(precision))],\n",
    "                  'stat_value': recall,\n",
    "                  'threshold': thresholds})    \n",
    "])"
   ]
  },
  {
   "cell_type": "code",
   "execution_count": 177,
   "metadata": {},
   "outputs": [
    {
     "data": {
      "text/plain": [
       "<matplotlib.collections.PolyCollection at 0x7fe7c1a609b0>"
      ]
     },
     "execution_count": 177,
     "metadata": {},
     "output_type": "execute_result"
    },
    {
     "data": {
      "image/png": "[encoded data removed]",
      "text/plain": [
       "<Figure size 432x288 with 1 Axes>"
      ]
     },
     "metadata": {
      "needs_background": "light"
     },
     "output_type": "display_data"
    }
   ],
   "source": [
    "ax = sns.lineplot(x=recall, y=precision, color='darkblue')\n",
    "ax.fill_betweean(recall,precision, color=\"darkblue\", alpha=0.3)"
   ]
  },
  {
   "cell_type": "code",
   "execution_count": 206,
   "metadata": {},
   "outputs": [
    {
     "data": {
      "image/png": "[encoded data removed]",
      "text/plain": [
       "<Figure size 432x288 with 1 Axes>"
      ]
     },
     "metadata": {
      "needs_background": "light"
     },
     "output_type": "display_data"
    }
   ],
   "source": [
    "ax = sns.lineplot(y=df['stat_value'], x=df['threshold'], hue=df['stat_name'], \n",
    "                  palette={'precision': 'red', 'recall': 'blue'})\n",
    "# ax.fill_between(recall,precision, color=\"darkblue\", alpha=0.3)"
   ]
  }
 ],
 "metadata": {
  "kernelspec": {
   "display_name": "Python 3",
   "language": "python",
   "name": "python3"
  },
  "language_info": {
   "codemirror_mode": {
    "name": "ipython",
    "version": 3
   },
   "file_extension": ".py",
   "mimetype": "text/x-python",
   "name": "python",
   "nbconvert_exporter": "python",
   "pygments_lexer": "ipython3",
   "version": "3.6.7"
  }
 },
 "nbformat": 4,
 "nbformat_minor": 2
}

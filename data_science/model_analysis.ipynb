{
 "cells": [
  {
   "cell_type": "code",
   "execution_count": null,
   "metadata": {},
   "outputs": [],
   "source": [
    "model.layers"
   ]
  },
  {
   "cell_type": "code",
   "execution_count": null,
   "metadata": {},
   "outputs": [],
   "source": [
    "import numpy as np\n",
    "\n",
    "\n",
    "def plot_activations(model, img):\n",
    "    layer_names = []\n",
    "    for layer in model.layers:\n",
    "        layer_names.append(layer.name) # Names of the layers, so you can have them as part of your plot\n",
    "\n",
    "    images_per_row = 12\n",
    "    layer_outputs = [layer.output for layer in model.layers]\n",
    "    activation_model = Model(inputs=model.input, outputs=layer_outputs)    \n",
    "    activations = activation_model.predict(img)\n",
    "    activations = activations\n",
    "    for layer_name, layer_activation in zip(layer_names, activations): # Displays the feature maps\n",
    "        if not 'conv2d' in layer_name:\n",
    "            continue\n",
    "        n_features = layer_activation.shape[-1] # Number of features in the feature map\n",
    "        size = layer_activation.shape[1] #The feature map has shape (1, size, size, n_features).\n",
    "        n_cols = n_features // images_per_row # Tiles the activation channels in this matrix\n",
    "        display_grid = np.zeros((size * n_cols, images_per_row * size))\n",
    "        for col in range(n_cols): # Tiles each filter into a big horizontal grid\n",
    "            for row in range(images_per_row):\n",
    "                channel_image = layer_activation[0,\n",
    "                                                 :, :,\n",
    "                                                 col * images_per_row + row]\n",
    "                channel_image -= channel_image.mean() # Post-processes the feature to make it visually palatable\n",
    "                channel_image /= channel_image.std()\n",
    "                channel_image *= 64\n",
    "                channel_image += 128\n",
    "                channel_image = np.clip(channel_image, 0, 255).astype('uint8')\n",
    "                display_grid[col * size : (col + 1) * size, # Displays the grid\n",
    "                             row * size : (row + 1) * size] = channel_image\n",
    "        scale = 1. / size\n",
    "        plt.figure(figsize=(scale * display_grid.shape[1],\n",
    "                            scale * display_grid.shape[0]))\n",
    "        plt.title(layer_name)\n",
    "        plt.grid(False)\n",
    "        plt.imshow(display_grid, aspect='auto', cmap='viridis')\n",
    "        \n",
    "x_small = [x_train[5]]\n",
    "y_small = [y_train[5]]     \n",
    "train_batch_generator = get_image_dataset(x_small, y_small, augmentations=None, band_stats=stats, \n",
    "                                          batch_size=batch_size)\n",
    "img, label = train_batch_generator.make_one_shot_iterator().get_next()\n",
    "\n",
    "plot_activations(model, img)"
   ]
  },
  {
   "cell_type": "code",
   "execution_count": null,
   "metadata": {},
   "outputs": [],
   "source": [
    "experiment_name = f\"{project_name}_basic_cnn_with_regularization_and_aug_2020_1_31\"\n",
    "model, model_base_metadata = get_model_and_metadata_from_gcs(\n",
    "    bucket, model_dir, \"h5\", load_model, gcs_model_dir, experiment_name)"
   ]
  },
  {
   "cell_type": "code",
   "execution_count": null,
   "metadata": {},
   "outputs": [],
   "source": [
    "rgb_img = (img[0].numpy() * 1.6 * 256.).astype(np.int8)\n",
    "plt.imshow(rgb_img)"
   ]
  },
  {
   "cell_type": "code",
   "execution_count": null,
   "metadata": {},
   "outputs": [],
   "source": [
    "model_base_metadata"
   ]
  },
  {
   "cell_type": "code",
   "execution_count": null,
   "metadata": {},
   "outputs": [],
   "source": [
    "test_dataset = get_image_dataset(x_test, y_test, None, stats, 128)\n",
    "y_actual, y_pred, y_pred_probs = get_predictions_for_dataset(test_dataset, model)\n",
    "print('binary_crossentropy - cnn with regularization and augmentation', \n",
    "      binary_crossentropy(y_actual, y_pred_probs).numpy())\n",
    "print('accuracy', accuracy_score(y_actual, y_pred))\n",
    "\n",
    "pd.DataFrame(y_pred_probs).hist()"
   ]
  },
  {
   "cell_type": "code",
   "execution_count": null,
   "metadata": {},
   "outputs": [],
   "source": [
    "def plot_confusion_matrix(cm,\n",
    "                          target_names,\n",
    "                          title='Confusion matrix',\n",
    "                          cmap=None,\n",
    "                          normalize=True):\n",
    "    \"\"\"\n",
    "    given a sklearn confusion matrix (cm), make a nice plot\n",
    "\n",
    "    Arguments\n",
    "    ---------\n",
    "    cm:           confusion matrix from sklearn.metrics.confusion_matrix\n",
    "\n",
    "    target_names: given classification classes such as [0, 1, 2]\n",
    "                  the class names, for example: ['high', 'medium', 'low']\n",
    "\n",
    "    title:        the text to display at the top of the matrix\n",
    "\n",
    "    cmap:         the gradient of the values displayed from matplotlib.pyplot.cm\n",
    "                  see http://matplotlib.org/examples/color/colormaps_reference.html\n",
    "                  plt.get_cmap('jet') or plt.cm.Blues\n",
    "\n",
    "    normalize:    If False, plot the raw numbers\n",
    "                  If True, plot the proportions\n",
    "\n",
    "    Usage\n",
    "    -----\n",
    "    plot_confusion_matrix(cm           = cm,                  # confusion matrix created by\n",
    "                                                              # sklearn.metrics.confusion_matrix\n",
    "                          normalize    = True,                # show proportions\n",
    "                          target_names = y_labels_vals,       # list of names of the classes\n",
    "                          title        = best_estimator_name) # title of graph\n",
    "\n",
    "    Citiation\n",
    "    ---------\n",
    "    http://scikit-learn.org/stable/auto_examples/model_selection/plot_confusion_matrix.html\n",
    "\n",
    "    \"\"\"\n",
    "    import matplotlib.pyplot as plt\n",
    "    import numpy as np\n",
    "    import itertools\n",
    "\n",
    "    accuracy = np.trace(cm) / np.sum(cm).astype('float')\n",
    "    misclass = 1 - accuracy\n",
    "\n",
    "    if cmap is None:\n",
    "        cmap = plt.get_cmap('Blues')\n",
    "\n",
    "    plt.figure(figsize=(8, 6))\n",
    "    plt.imshow(cm, interpolation='nearest', cmap=cmap)\n",
    "    plt.title(title)\n",
    "    plt.colorbar()\n",
    "\n",
    "    if target_names is not None:\n",
    "        tick_marks = np.arange(len(target_names))\n",
    "        plt.xticks(tick_marks, target_names, rotation=45)\n",
    "        plt.yticks(tick_marks, target_names)\n",
    "\n",
    "    if normalize:\n",
    "        cm = cm.astype('float') / cm.sum(axis=1)[:, np.newaxis]\n",
    "\n",
    "\n",
    "    thresh = cm.max() / 1.5 if normalize else cm.max() / 2\n",
    "    for i, j in itertools.product(range(cm.shape[0]), range(cm.shape[1])):\n",
    "        if normalize:\n",
    "            plt.text(j, i, \"{:0.4f}\".format(cm[i, j]),\n",
    "                     horizontalalignment=\"center\",\n",
    "                     color=\"white\" if cm[i, j] > thresh else \"black\")\n",
    "        else:\n",
    "            plt.text(j, i, \"{:,}\".format(cm[i, j]),\n",
    "                     horizontalalignment=\"center\",\n",
    "                     color=\"white\" if cm[i, j] > thresh else \"black\")\n",
    "\n",
    "\n",
    "    plt.tight_layout()\n",
    "    plt.ylabel('True label')\n",
    "    plt.xlabel('Predicted label\\naccuracy={:0.4f}; misclass={:0.4f}'.format(accuracy, misclass))\n",
    "    plt.show()"
   ]
  },
  {
   "cell_type": "code",
   "execution_count": null,
   "metadata": {},
   "outputs": [],
   "source": [
    "cm = confusion_matrix(y_actual, y_pred)\n",
    "# Put in same format as google automl\n",
    "cm = np.array(\n",
    "    [[cm[1][1], cm[1][0]],\n",
    "     [cm[0][1], cm[0][0]]\n",
    "])\n",
    "plot_confusion_matrix(cm, target_names=['has_cloud_and_shadow', 'no_cloud_and_shadow'],\n",
    "                          title='Confusion matrix',\n",
    "                          cmap=None,\n",
    "                          normalize=True)"
   ]
  },
  {
   "cell_type": "code",
   "execution_count": null,
   "metadata": {},
   "outputs": [],
   "source": [
    "sklearn.metrics.precision_recall_fscore_support(y_actual, y_pred_probs, average='binary') "
   ]
  },
  {
   "cell_type": "code",
   "execution_count": null,
   "metadata": {},
   "outputs": [],
   "source": [
    "precision = precision[:-1]\n",
    "recall = recall[:-1]\n",
    "df = pd.concat([\n",
    "    pd.DataFrame({'stat_name': ['precision' for _ in range(len(precision))],\n",
    "                  'stat_value': precision,\n",
    "                  'threshold': thresholds}),\n",
    "    pd.DataFrame({'stat_name': ['recall' for _ in range(len(precision))],\n",
    "                  'stat_value': recall,\n",
    "                  'threshold': thresholds})    \n",
    "])"
   ]
  },
  {
   "cell_type": "code",
   "execution_count": null,
   "metadata": {},
   "outputs": [],
   "source": [
    "ax = sns.lineplot(y=df['stat_value'], x=df['threshold'], hue=df['stat_name'], \n",
    "                  palette={'precision': 'red', 'recall': 'blue'})\n",
    "# ax.fill_between(recall,precision, color=\"darkblue\", alpha=0.3)"
   ]
  }
 ],
 "metadata": {
  "kernelspec": {
   "display_name": "Python 3",
   "language": "python",
   "name": "python3"
  },
  "language_info": {
   "codemirror_mode": {
    "name": "ipython",
    "version": 3
   },
   "file_extension": ".py",
   "mimetype": "text/x-python",
   "name": "python",
   "nbconvert_exporter": "python",
   "pygments_lexer": "ipython3",
   "version": "3.6.7"
  }
 },
 "nbformat": 4,
 "nbformat_minor": 4
}

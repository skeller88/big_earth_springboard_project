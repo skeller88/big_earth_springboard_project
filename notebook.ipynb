{
 "cells": [
  {
   "cell_type": "code",
   "execution_count": 1,
   "metadata": {
    "collapsed": true
   },
   "outputs": [],
   "source": [
    "import pandas\n",
    "import rasterio"
   ]
  },
  {
   "cell_type": "code",
   "execution_count": 11,
   "metadata": {},
   "outputs": [],
   "source": [
    "band_path = '/Users/shanekeller/Documents/big_earth_data_without_clouds_and_snow/S2B_MSIL2A_20170927T094019_9_16/S2B_MSIL2A_20170927T094019_9_16_B01.tif'\n",
    "\n",
    "band_ds = rasterio.open(band_path)\n",
    "band_data = band_ds.read(1)\n"
   ]
  },
  {
   "cell_type": "code",
   "execution_count": 13,
   "metadata": {},
   "outputs": [
    {
     "data": {
      "text/plain": [
       "(20, 20)"
      ]
     },
     "execution_count": 13,
     "metadata": {},
     "output_type": "execute_result"
    }
   ],
   "source": [
    "band_data.shape"
   ]
  }
 ],
 "metadata": {
  "kernelspec": {
   "display_name": "big_earth_springboard_project",
   "language": "python",
   "name": "big_earth_springboard_project"
  },
  "language_info": {
   "codemirror_mode": {
    "name": "ipython",
    "version": 3
   },
   "file_extension": ".py",
   "mimetype": "text/x-python",
   "name": "python",
   "nbconvert_exporter": "python",
   "pygments_lexer": "ipython3",
   "version": "3.7.4"
  }
 },
 "nbformat": 4,
 "nbformat_minor": 2
}
